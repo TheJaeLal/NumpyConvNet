{
 "cells": [
  {
   "cell_type": "markdown",
   "metadata": {},
   "source": [
    "### 1. Build a simple convolution operation.."
   ]
  },
  {
   "cell_type": "markdown",
   "metadata": {},
   "source": [
    "### 2. Add support for multi channel inputs and outputs"
   ]
  },
  {
   "cell_type": "markdown",
   "metadata": {},
   "source": [
    "### 3. Add ReLU and Max Pool / Average Pool operations"
   ]
  },
  {
   "cell_type": "markdown",
   "metadata": {},
   "source": [
    "### 4. Compare implementation with tensorflow and optimizing operations"
   ]
  },
  {
   "cell_type": "markdown",
   "metadata": {},
   "source": [
    "### 5. Encapsulate everything as functions/objects and create a forward prop flow"
   ]
  },
  {
   "cell_type": "markdown",
   "metadata": {},
   "source": [
    "### Get the image"
   ]
  },
  {
   "cell_type": "code",
   "execution_count": 1,
   "metadata": {},
   "outputs": [],
   "source": [
    "import numpy as np\n",
    "import cv2\n",
    "from IPython.display import Image\n",
    "\n",
    "import viz_utils"
   ]
  },
  {
   "cell_type": "code",
   "execution_count": 4,
   "metadata": {},
   "outputs": [
    {
     "data": {
      "image/png": "[encoded data removed]",
      "text/plain": [
       "<IPython.core.display.Image object>"
      ]
     },
     "execution_count": 4,
     "metadata": {
      "image/png": {
       "height": 250,
       "width": 250
      }
     },
     "output_type": "execute_result"
    }
   ],
   "source": [
    "Image(\"test_img.png\", height= 250, width=250)"
   ]
  },
  {
   "cell_type": "code",
   "execution_count": 40,
   "metadata": {},
   "outputs": [],
   "source": [
    "test_img = cv2.imread(\"test_img.png\", 0)"
   ]
  },
  {
   "cell_type": "markdown",
   "metadata": {},
   "source": [
    "### Apply a 3x3 filter on this image..."
   ]
  },
  {
   "cell_type": "code",
   "execution_count": 41,
   "metadata": {},
   "outputs": [],
   "source": [
    "conv_filter = np.array([[1,0,1],\n",
    "                     [0,2,1],\n",
    "                     [-3,1,5]], dtype=np.float32)"
   ]
  },
  {
   "cell_type": "code",
   "execution_count": 42,
   "metadata": {},
   "outputs": [
    {
     "data": {
      "text/plain": [
       "array([[ 1.,  0.,  1.],\n",
       "       [ 0.,  2.,  1.],\n",
       "       [-3.,  1.,  5.]], dtype=float32)"
      ]
     },
     "execution_count": 42,
     "metadata": {},
     "output_type": "execute_result"
    }
   ],
   "source": [
    "conv_filter"
   ]
  },
  {
   "cell_type": "markdown",
   "metadata": {},
   "source": [
    "### Define convolution operation"
   ]
  },
  {
   "cell_type": "code",
   "execution_count": 54,
   "metadata": {},
   "outputs": [],
   "source": [
    "def conv(img, conv_filter):\n",
    "    \n",
    "    n = len(conv_filter)\n",
    "    H,W = img.shape[:2]\n",
    "    \n",
    "    # Create a bigger padded image\n",
    "    padded_img = np.zeros((H+2*(n//2), W+2*(n//2)), dtype = np.uint8)\n",
    "    \n",
    "    # copy the current image into it.\n",
    "    padded_img[n//2:n//2+H, n//2:n//2+W] = img\n",
    "    \n",
    "    # Get the new Height and Width\n",
    "    Hnew, Wnew = padded_img.shape[:2]\n",
    "    \n",
    "    # Create an empty output image..\n",
    "    conv_out_img = np.zeros_like(padded_img)\n",
    "    \n",
    "    for x in range(n//2, Wnew-n//2):\n",
    "        for y in range(n//2, Hnew-n//2):\n",
    "            conv_out_img[y, x] = np.sum(conv_filter * padded_img[y-n//2:y+n//2+1, x-n//2:x+n//2+1])\n",
    "\n",
    "    # Remove the padding\n",
    "    conv_out_img = conv_out_img[n//2:n//2+H, n//2:n//2+W]\n",
    "    \n",
    "    return conv_out_img"
   ]
  },
  {
   "cell_type": "code",
   "execution_count": null,
   "metadata": {},
   "outputs": [],
   "source": []
  },
  {
   "cell_type": "markdown",
   "metadata": {},
   "source": [
    "### Try convolution filter on the new image"
   ]
  },
  {
   "cell_type": "code",
   "execution_count": 55,
   "metadata": {},
   "outputs": [],
   "source": [
    "test_img = cv2.imread(\"test_img.png\", 0)"
   ]
  },
  {
   "cell_type": "code",
   "execution_count": 56,
   "metadata": {},
   "outputs": [
    {
     "name": "stdout",
     "output_type": "stream",
     "text": [
      "   0   0   0   0   0   0   0   0   0   0   0   0   0   0   0   0   0   0   0   0   0   0   0   0   0   0   0   0\n",
      "\n",
      "   0   0   0   0   0   0   0   0   0   0   0   0   0   0   0   0   0   0   0   0   0   0   0   0   0   0   0   0\n",
      "\n",
      "   0   0   0   0   0   0   0   0   0   0   0   0   0   0   0   0   0   0   0   0   0   0   0   0   0   0   0   0\n",
      "\n",
      "   0   0   0   0   0   0   0   0   0   0   0   0   0   0   0   0   0   0   0   0   0   0   0   0   0   0   0   0\n",
      "\n",
      "   0   0   0   0   0   0   0   0   0   0   0   0   0   0   0   0   0   0   0   0   0   0   0   0   0   0   0   0\n",
      "\n",
      "   0   0   0   0   0   0   0   0   0   0   0   0   0   0   0   0   0   0   0   0   0   0   0   0   0   0   0   0\n",
      "\n",
      "   0   0   0   0   0   0   0   0   0   0   0   0   0   0   0   0   0   0   0   0   0   0   0   0   0   0   0   0\n",
      "\n",
      "   0   0   0   0   0   0  84 185 159 151  60  36   0   0   0   0   0   0   0   0   0   0   0   0   0   0   0   0\n",
      "\n",
      "   0   0   0   0   0   0 222 254 254 254 254 241 198 198 198 198 198 198 198 198 170  52   0   0   0   0   0   0\n",
      "\n",
      "   0   0   0   0   0   0  67 114  72 114 163 227 254 225 254 254 254 250 229 254 254 140   0   0   0   0   0   0\n",
      "\n",
      "   0   0   0   0   0   0   0   0   0   0   0  17  66  14  67  67  67  59  21 236 254 106   0   0   0   0   0   0\n",
      "\n",
      "   0   0   0   0   0   0   0   0   0   0   0   0   0   0   0   0   0   0  83 253 209  18   0   0   0   0   0   0\n",
      "\n",
      "   0   0   0   0   0   0   0   0   0   0   0   0   0   0   0   0   0  22 233 255  83   0   0   0   0   0   0   0\n",
      "\n",
      "   0   0   0   0   0   0   0   0   0   0   0   0   0   0   0   0   0 129 254 238  44   0   0   0   0   0   0   0\n",
      "\n",
      "   0   0   0   0   0   0   0   0   0   0   0   0   0   0   0   0  59 249 254  62   0   0   0   0   0   0   0   0\n",
      "\n",
      "   0   0   0   0   0   0   0   0   0   0   0   0   0   0   0   0 133 254 187   5   0   0   0   0   0   0   0   0\n",
      "\n",
      "   0   0   0   0   0   0   0   0   0   0   0   0   0   0   0   9 205 248  58   0   0   0   0   0   0   0   0   0\n",
      "\n",
      "   0   0   0   0   0   0   0   0   0   0   0   0   0   0   0 126 254 182   0   0   0   0   0   0   0   0   0   0\n",
      "\n",
      "   0   0   0   0   0   0   0   0   0   0   0   0   0   0  75 251 240  57   0   0   0   0   0   0   0   0   0   0\n",
      "\n",
      "   0   0   0   0   0   0   0   0   0   0   0   0   0  19 221 254 166   0   0   0   0   0   0   0   0   0   0   0\n",
      "\n",
      "   0   0   0   0   0   0   0   0   0   0   0   0   3 203 254 219  35   0   0   0   0   0   0   0   0   0   0   0\n",
      "\n",
      "   0   0   0   0   0   0   0   0   0   0   0   0  38 254 254  77   0   0   0   0   0   0   0   0   0   0   0   0\n",
      "\n",
      "   0   0   0   0   0   0   0   0   0   0   0  31 224 254 115   1   0   0   0   0   0   0   0   0   0   0   0   0\n",
      "\n",
      "   0   0   0   0   0   0   0   0   0   0   0 133 254 254  52   0   0   0   0   0   0   0   0   0   0   0   0   0\n",
      "\n",
      "   0   0   0   0   0   0   0   0   0   0  61 242 254 254  52   0   0   0   0   0   0   0   0   0   0   0   0   0\n",
      "\n",
      "   0   0   0   0   0   0   0   0   0   0 121 254 254 219  40   0   0   0   0   0   0   0   0   0   0   0   0   0\n",
      "\n",
      "   0   0   0   0   0   0   0   0   0   0 121 254 207  18   0   0   0   0   0   0   0   0   0   0   0   0   0   0\n",
      "\n",
      "   0   0   0   0   0   0   0   0   0   0   0   0   0   0   0   0   0   0   0   0   0   0   0   0   0   0   0   0\n",
      "\n"
     ]
    }
   ],
   "source": [
    "vis_2darray(test_img)"
   ]
  },
  {
   "cell_type": "code",
   "execution_count": null,
   "metadata": {},
   "outputs": [],
   "source": []
  },
  {
   "cell_type": "code",
   "execution_count": 57,
   "metadata": {},
   "outputs": [],
   "source": [
    "conv_out_img = conv(test_img, conv_filter)"
   ]
  },
  {
   "cell_type": "code",
   "execution_count": 58,
   "metadata": {},
   "outputs": [
    {
     "name": "stdout",
     "output_type": "stream",
     "text": [
      "   0   0   0   0   0   0   0   0   0   0   0   0   0   0   0   0   0   0   0   0   0   0   0   0   0   0   0   0\n",
      "\n",
      "   0   0   0   0   0   0   0   0   0   0   0   0   0   0   0   0   0   0   0   0   0   0   0   0   0   0   0   0\n",
      "\n",
      "   0   0   0   0   0   0   0   0   0   0   0   0   0   0   0   0   0   0   0   0   0   0   0   0   0   0   0   0\n",
      "\n",
      "   0   0   0   0   0   0   0   0   0   0   0   0   0   0   0   0   0   0   0   0   0   0   0   0   0   0   0   0\n",
      "\n",
      "   0   0   0   0   0   0   0   0   0   0   0   0   0   0   0   0   0   0   0   0   0   0   0   0   0   0   0   0\n",
      "\n",
      "   0   0   0   0   0   0   0   0   0   0   0   0   0   0   0   0   0   0   0   0   0   0   0   0   0   0   0   0\n",
      "\n",
      "   0   0   0   0   0 164 241 216 103 230  43 112 148   0   0   0   0   0   0   0   0   0   0   0   0   0   0   0\n",
      "\n",
      "   0   0   0   0   0 170  53 107 207 100  85  29 209  82  82  82  82  82  82 198  92  54 100   0   0   0   0   0\n",
      "\n",
      "   0   0   0   0   0 129 240 254 118 158 100 212  48  47 163  76  56 203  63 123  72 250  92   0   0   0   0   0\n",
      "\n",
      "   0   0   0   0   0  33 246   8 254 131 109 227 233 227 238  79  35  64  84  13 206  50 246   0   0   0   0   0\n",
      "\n",
      "   0   0   0   0   0  67 114 139 228 235 102   5  86  91 168 197 185  13  82 210  36 113  86   0   0   0   0   0\n",
      "\n",
      "   0   0   0   0   0   0   0   0   0   0  17  66  31 133  81 134 236  78 108 193  96  41 106   0   0   0   0   0\n",
      "\n",
      "   0   0   0   0   0   0   0   0   0   0   0   0   0   0   0   0 155 223 239  69  23  77  18   0   0   0   0   0\n",
      "\n",
      "   0   0   0   0   0   0   0   0   0   0   0   0   0   0   0  39 175  39  72 136 157  83   0   0   0   0   0   0\n",
      "\n",
      "   0   0   0   0   0   0   0   0   0   0   0   0   0   0   0 212 107   4 131 122 223  44   0   0   0   0   0   0\n",
      "\n",
      "   0   0   0   0   0   0   0   0   0   0   0   0   0   0  45 202 139 163   4  90  62   0   0   0   0   0   0   0\n",
      "\n",
      "   0   0   0   0   0   0   0   0   0   0   0   0   0   0 127 216 162  38  85 187   5   0   0   0   0   0   0   0\n",
      "\n",
      "   0   0   0   0   0   0   0   0   0   0   0   0   0 119 185 145 207 220  77  58   0   0   0   0   0   0   0   0\n",
      "\n",
      "   0   0   0   0   0   0   0   0   0   0   0   0  95 175 169 137 249 126 182   0   0   0   0   0   0   0   0   0\n",
      "\n",
      "   0   0   0   0   0   0   0   0   0   0   0  15  13   6 151 109  18 135  57   0   0   0   0   0   0   0   0   0\n",
      "\n",
      "   0   0   0   0   0   0   0   0   0   0   0 193   0 243 109 175  93 166   0   0   0   0   0   0   0   0   0   0\n",
      "\n",
      "   0   0   0   0   0   0   0   0   0   0 155 168 142 152 109  99 216  35   0   0   0   0   0   0   0   0   0   0\n",
      "\n",
      "   0   0   0   0   0   0   0   0   0   0 184 191  33 155 108 100  77   0   0   0   0   0   0   0   0   0   0   0\n",
      "\n",
      "   0   0   0   0   0   0   0   0   0  49 155  25  53 139 161 215   1   0   0   0   0   0   0   0   0   0   0   0\n",
      "\n",
      "   0   0   0   0   0   0   0   0   0 154  96 105 200  11 253 188   0   0   0   0   0   0   0   0   0   0   0   0\n",
      "\n",
      "   0   0   0   0   0   0   0   0   0  19  81 211 246 181  24  52   0   0   0   0   0   0   0   0   0   0   0   0\n",
      "\n",
      "   0   0   0   0   0   0   0   0   0 242 238  66 137  74 219  40   0   0   0   0   0   0   0   0   0   0   0   0\n",
      "\n",
      "   0   0   0   0   0   0   0   0   0 121 254  72  16 207  18   0   0   0   0   0   0   0   0   0   0   0   0   0\n",
      "\n"
     ]
    }
   ],
   "source": [
    "viz_utils.vis_2darray(conv_out_img)"
   ]
  },
  {
   "cell_type": "code",
   "execution_count": 59,
   "metadata": {},
   "outputs": [
    {
     "data": {
      "text/plain": [
       "True"
      ]
     },
     "execution_count": 59,
     "metadata": {},
     "output_type": "execute_result"
    }
   ],
   "source": [
    "cv2.imwrite(\"conv_out_img.png\", conv_out)"
   ]
  },
  {
   "cell_type": "code",
   "execution_count": 60,
   "metadata": {},
   "outputs": [
    {
     "data": {
      "image/png": "[encoded data removed]",
      "text/plain": [
       "<IPython.core.display.Image object>"
      ]
     },
     "execution_count": 60,
     "metadata": {
      "image/png": {
       "height": 250,
       "width": 250
      }
     },
     "output_type": "execute_result"
    }
   ],
   "source": [
    "Image(\"conv_out_img.png\", height = 250, width = 250)"
   ]
  },
  {
   "cell_type": "code",
   "execution_count": null,
   "metadata": {},
   "outputs": [],
   "source": []
  },
  {
   "cell_type": "code",
   "execution_count": null,
   "metadata": {},
   "outputs": [],
   "source": []
  },
  {
   "cell_type": "code",
   "execution_count": null,
   "metadata": {},
   "outputs": [],
   "source": []
  },
  {
   "cell_type": "code",
   "execution_count": null,
   "metadata": {},
   "outputs": [],
   "source": []
  },
  {
   "cell_type": "code",
   "execution_count": null,
   "metadata": {},
   "outputs": [],
   "source": []
  },
  {
   "cell_type": "markdown",
   "metadata": {},
   "source": [
    "## Forward Prop"
   ]
  },
  {
   "cell_type": "code",
   "execution_count": null,
   "metadata": {},
   "outputs": [],
   "source": []
  },
  {
   "cell_type": "code",
   "execution_count": null,
   "metadata": {},
   "outputs": [],
   "source": []
  },
  {
   "cell_type": "code",
   "execution_count": null,
   "metadata": {},
   "outputs": [],
   "source": []
  },
  {
   "cell_type": "code",
   "execution_count": null,
   "metadata": {},
   "outputs": [],
   "source": []
  },
  {
   "cell_type": "code",
   "execution_count": null,
   "metadata": {},
   "outputs": [],
   "source": []
  },
  {
   "cell_type": "code",
   "execution_count": null,
   "metadata": {},
   "outputs": [],
   "source": []
  },
  {
   "cell_type": "code",
   "execution_count": null,
   "metadata": {},
   "outputs": [],
   "source": []
  },
  {
   "cell_type": "code",
   "execution_count": null,
   "metadata": {},
   "outputs": [],
   "source": []
  },
  {
   "cell_type": "markdown",
   "metadata": {},
   "source": [
    "## Back Prop"
   ]
  },
  {
   "cell_type": "code",
   "execution_count": null,
   "metadata": {},
   "outputs": [],
   "source": []
  },
  {
   "cell_type": "code",
   "execution_count": null,
   "metadata": {},
   "outputs": [],
   "source": []
  },
  {
   "cell_type": "code",
   "execution_count": null,
   "metadata": {},
   "outputs": [],
   "source": []
  },
  {
   "cell_type": "code",
   "execution_count": null,
   "metadata": {},
   "outputs": [],
   "source": []
  },
  {
   "cell_type": "code",
   "execution_count": null,
   "metadata": {},
   "outputs": [],
   "source": []
  },
  {
   "cell_type": "code",
   "execution_count": null,
   "metadata": {},
   "outputs": [],
   "source": []
  },
  {
   "cell_type": "code",
   "execution_count": null,
   "metadata": {},
   "outputs": [],
   "source": []
  },
  {
   "cell_type": "code",
   "execution_count": null,
   "metadata": {},
   "outputs": [],
   "source": []
  },
  {
   "cell_type": "code",
   "execution_count": null,
   "metadata": {},
   "outputs": [],
   "source": [
    "# class relu_layer():\n",
    "#     def __init__(self):\n",
    "\n",
    "        \n",
    "#     def forward():\n",
    "        \n",
    "\n",
    "# class conv2d_layer():\n",
    "#     def __init__(self, kernel, stride, channels_in, channels_out, initializer):\n",
    "    \n",
    "\n",
    "# class max_pool_layer():\n",
    "#     def __init__(self, kernel, stride)\n",
    "\n",
    "# class CNN():\n",
    "    "
   ]
  },
  {
   "cell_type": "code",
   "execution_count": 5,
   "metadata": {},
   "outputs": [],
   "source": [
    "# import numpy as np\n",
    "# import cv2\n",
    "# import gzip\n",
    "\n",
    "# mnist_img_size = [28,28]\n",
    "\n",
    "# num_samples_to_fetch = 10\n",
    "\n",
    "# np.prod(mnist_img_size)*10\n",
    "\n",
    "# with gzip.open(\"MNIST_Data/t10k-images-idx3-ubyte.gz\") as f:\n",
    "#     # first 16 bytes are header..\n",
    "#     f.read(16)\n",
    "        \n",
    "#     dataBuffer = f.read(np.prod(mnist_img_size)*10)\n",
    "\n",
    "# data = np.frombuffer(dataBuffer, dtype = np.uint8)\n",
    "\n",
    "# images = data.reshape(num_samples_to_fetch, mnist_img_size[0], mnist_img_size[0], 1)\n",
    "\n",
    "# test_img = np.squeeze(images[0])\n",
    "# bufferData = test_img.tobytes()\n",
    "# cv2.imwrite(\"test_img.png\", test_img)"
   ]
  }
 ],
 "metadata": {
  "kernelspec": {
   "display_name": "Python 3",
   "language": "python",
   "name": "python3"
  },
  "language_info": {
   "codemirror_mode": {
    "name": "ipython",
    "version": 3
   },
   "file_extension": ".py",
   "mimetype": "text/x-python",
   "name": "python",
   "nbconvert_exporter": "python",
   "pygments_lexer": "ipython3",
   "version": "3.7.5"
  }
 },
 "nbformat": 4,
 "nbformat_minor": 2
}
