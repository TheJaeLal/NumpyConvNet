{
 "cells": [
  {
   "cell_type": "markdown",
   "metadata": {},
   "source": [
    "### 1. Build a simple convolution operation.."
   ]
  },
  {
   "cell_type": "code",
   "execution_count": null,
   "metadata": {},
   "outputs": [],
   "source": [
    "class relu_layer():\n",
    "    def __init__(self):\n",
    "\n",
    "        \n",
    "    def forward():\n",
    "        "
   ]
  },
  {
   "cell_type": "code",
   "execution_count": null,
   "metadata": {},
   "outputs": [],
   "source": [
    "class conv2d_layer():\n",
    "    def __init__(self, kernel, stride, channels_in, channels_out, initializer):\n",
    "    "
   ]
  },
  {
   "cell_type": "code",
   "execution_count": null,
   "metadata": {},
   "outputs": [],
   "source": [
    "class max_pool_layer():\n",
    "    def __init__(self, kernel, stride)"
   ]
  },
  {
   "cell_type": "code",
   "execution_count": null,
   "metadata": {},
   "outputs": [],
   "source": [
    "class CNN():\n",
    "    "
   ]
  },
  {
   "cell_type": "code",
   "execution_count": null,
   "metadata": {},
   "outputs": [],
   "source": []
  },
  {
   "cell_type": "code",
   "execution_count": 2,
   "metadata": {},
   "outputs": [],
   "source": [
    "## Read the MNIST Data"
   ]
  },
  {
   "cell_type": "code",
   "execution_count": 6,
   "metadata": {},
   "outputs": [],
   "source": [
    "import numpy as np"
   ]
  },
  {
   "cell_type": "code",
   "execution_count": 5,
   "metadata": {},
   "outputs": [],
   "source": [
    "import cv2"
   ]
  },
  {
   "cell_type": "code",
   "execution_count": 5,
   "metadata": {},
   "outputs": [],
   "source": [
    "import numpy as np\n",
    "import cv2\n",
    "import gzip\n",
    "\n",
    "mnist_img_size = [28,28]\n",
    "\n",
    "num_samples_to_fetch = 10\n",
    "\n",
    "np.prod(mnist_img_size)*10\n",
    "\n",
    "with gzip.open(\"MNIST_Data/t10k-images-idx3-ubyte.gz\") as f:\n",
    "    # first 16 bytes are header..\n",
    "    f.read(16)\n",
    "        \n",
    "    dataBuffer = f.read(np.prod(mnist_img_size)*10)\n",
    "\n",
    "data = np.frombuffer(dataBuffer, dtype = np.uint8)\n",
    "\n",
    "images = data.reshape(num_samples_to_fetch, mnist_img_size[0], mnist_img_size[0], 1)\n",
    "\n",
    "test_img = np.squeeze(images[0])\n",
    "bufferData = test_img.tobytes()\n",
    "cv2.imwrite(\"test_img.png\", test_img)"
   ]
  },
  {
   "cell_type": "code",
   "execution_count": null,
   "metadata": {},
   "outputs": [],
   "source": []
  },
  {
   "cell_type": "markdown",
   "metadata": {},
   "source": [
    "### Get the image"
   ]
  },
  {
   "cell_type": "code",
   "execution_count": 36,
   "metadata": {},
   "outputs": [],
   "source": [
    "from IPython.display import Image"
   ]
  },
  {
   "cell_type": "code",
   "execution_count": 37,
   "metadata": {},
   "outputs": [
    {
     "data": {
      "image/png": "[encoded data removed]",
      "text/plain": [
       "<IPython.core.display.Image object>"
      ]
     },
     "execution_count": 37,
     "metadata": {
      "image/png": {
       "height": 250,
       "width": 250
      }
     },
     "output_type": "execute_result"
    }
   ],
   "source": [
    "Image(\"test_img.png\", height= 250, width=250)"
   ]
  },
  {
   "cell_type": "code",
   "execution_count": 47,
   "metadata": {},
   "outputs": [],
   "source": [
    "test_img = cv2.imread(\"test_img.png\", 0)"
   ]
  },
  {
   "cell_type": "markdown",
   "metadata": {},
   "source": [
    "## Apply a 3x3 filter on this image..."
   ]
  },
  {
   "cell_type": "code",
   "execution_count": 48,
   "metadata": {},
   "outputs": [],
   "source": [
    "conv_filter = np.array([[1,0,1],\n",
    "                     [0,2,1],\n",
    "                     [-3,1,5]], dtype=np.float32)"
   ]
  },
  {
   "cell_type": "code",
   "execution_count": 49,
   "metadata": {},
   "outputs": [
    {
     "data": {
      "text/plain": [
       "array([[ 1.,  0.,  1.],\n",
       "       [ 0.,  2.,  1.],\n",
       "       [-3.,  1.,  5.]], dtype=float32)"
      ]
     },
     "execution_count": 49,
     "metadata": {},
     "output_type": "execute_result"
    }
   ],
   "source": [
    "conv_filter"
   ]
  },
  {
   "cell_type": "code",
   "execution_count": 50,
   "metadata": {},
   "outputs": [],
   "source": [
    "## Convolve the filter over the image..."
   ]
  },
  {
   "cell_type": "code",
   "execution_count": 51,
   "metadata": {},
   "outputs": [
    {
     "data": {
      "text/plain": [
       "(28, 28)"
      ]
     },
     "execution_count": 51,
     "metadata": {},
     "output_type": "execute_result"
    }
   ],
   "source": [
    "test_img.shape"
   ]
  },
  {
   "cell_type": "code",
   "execution_count": 52,
   "metadata": {},
   "outputs": [],
   "source": [
    "H,W = test_img.shape[:2]"
   ]
  },
  {
   "cell_type": "code",
   "execution_count": 53,
   "metadata": {},
   "outputs": [],
   "source": [
    "conv_out_img = np.zeros_like(test_img)"
   ]
  },
  {
   "cell_type": "code",
   "execution_count": 60,
   "metadata": {},
   "outputs": [],
   "source": [
    "def conv(img, conv_filter):\n",
    "    \n",
    "    n = len(conv_filter)\n",
    "    H,W = img.shape[:2]\n",
    "    \n",
    "    conv_out_img = np.zeros_like(img)\n",
    "    \n",
    "    for x in range(n//2, W-n//2):\n",
    "        for y in range(n//2, H-n//2):\n",
    "            conv_out_img[y, x] = np.sum(conv_filter * img[y-n//2:y+n//2+1, x-n//2:x+n//2+1])\n",
    "\n",
    "    return conv_out_img"
   ]
  },
  {
   "cell_type": "code",
   "execution_count": 54,
   "metadata": {},
   "outputs": [],
   "source": [
    "# Ignore padding first...\n",
    "\n",
    "# So 3 x 3 filter starts at point \n",
    "\n",
    "# starting from point 1,1 as centre do 1st convolution\n",
    "# requires selecting sub section of array...\n",
    "# from 0,0 to 2,2\n",
    "\n",
    "#: Assumption is that its a square filter (nxn)\n",
    "# n = len(conv_filter)\n",
    "\n",
    "# for x in range(n//2, W-n//2):\n",
    "#     for y in range(n//2, H-n//2):\n",
    "#         conv_out_img[y, x] = np.sum(conv_filter * test_img[y-n//2:y+n//2+1, x-n//2:x+n//2+1])"
   ]
  },
  {
   "cell_type": "code",
   "execution_count": 18,
   "metadata": {},
   "outputs": [
    {
     "name": "stdout",
     "output_type": "stream",
     "text": [
      "   0   0   0   0   0   0   0   0   0   0   0   0   0   0   0   0   0   0   0   0   0   0   0   0   0   0   0   0\n",
      "\n",
      "   0   0   0   0   0   0   0   0   0   0   0   0   0   0   0   0   0   0   0   0   0   0   0   0   0   0   0   0\n",
      "\n",
      "   0   0   0   0   0   0   0   0   0   0   0   0   0   0   0   0   0   0   0   0   0   0   0   0   0   0   0   0\n",
      "\n",
      "   0   0   0   0   0   0   0   0   0   0   0   0   0   0   0   0   0   0   0   0   0   0   0   0   0   0   0   0\n",
      "\n",
      "   0   0   0   0   0   0   0   0   0   0   0   0   0   0   0   0   0   0   0   0   0   0   0   0   0   0   0   0\n",
      "\n",
      "   0   0   0   0   0   0   0   0   0   0   0   0   0   0   0   0   0   0   0   0   0   0   0   0   0   0   0   0\n",
      "\n",
      "   0   0   0   0   0   0   0   0   0   0   0   0   0   0   0   0   0   0   0   0   0   0   0   0   0   0   0   0\n",
      "\n",
      "   0   0   0   0   0   0  84 185 159 151  60  36   0   0   0   0   0   0   0   0   0   0   0   0   0   0   0   0\n",
      "\n",
      "   0   0   0   0   0   0 222 254 254 254 254 241 198 198 198 198 198 198 198 198 170  52   0   0   0   0   0   0\n",
      "\n",
      "   0   0   0   0   0   0  67 114  72 114 163 227 254 225 254 254 254 250 229 254 254 140   0   0   0   0   0   0\n",
      "\n",
      "   0   0   0   0   0   0   0   0   0   0   0  17  66  14  67  67  67  59  21 236 254 106   0   0   0   0   0   0\n",
      "\n",
      "   0   0   0   0   0   0   0   0   0   0   0   0   0   0   0   0   0   0  83 253 209  18   0   0   0   0   0   0\n",
      "\n",
      "   0   0   0   0   0   0   0   0   0   0   0   0   0   0   0   0   0  22 233 255  83   0   0   0   0   0   0   0\n",
      "\n",
      "   0   0   0   0   0   0   0   0   0   0   0   0   0   0   0   0   0 129 254 238  44   0   0   0   0   0   0   0\n",
      "\n",
      "   0   0   0   0   0   0   0   0   0   0   0   0   0   0   0   0  59 249 254  62   0   0   0   0   0   0   0   0\n",
      "\n",
      "   0   0   0   0   0   0   0   0   0   0   0   0   0   0   0   0 133 254 187   5   0   0   0   0   0   0   0   0\n",
      "\n",
      "   0   0   0   0   0   0   0   0   0   0   0   0   0   0   0   9 205 248  58   0   0   0   0   0   0   0   0   0\n",
      "\n",
      "   0   0   0   0   0   0   0   0   0   0   0   0   0   0   0 126 254 182   0   0   0   0   0   0   0   0   0   0\n",
      "\n",
      "   0   0   0   0   0   0   0   0   0   0   0   0   0   0  75 251 240  57   0   0   0   0   0   0   0   0   0   0\n",
      "\n",
      "   0   0   0   0   0   0   0   0   0   0   0   0   0  19 221 254 166   0   0   0   0   0   0   0   0   0   0   0\n",
      "\n",
      "   0   0   0   0   0   0   0   0   0   0   0   0   3 203 254 219  35   0   0   0   0   0   0   0   0   0   0   0\n",
      "\n",
      "   0   0   0   0   0   0   0   0   0   0   0   0  38 254 254  77   0   0   0   0   0   0   0   0   0   0   0   0\n",
      "\n",
      "   0   0   0   0   0   0   0   0   0   0   0  31 224 254 115   1   0   0   0   0   0   0   0   0   0   0   0   0\n",
      "\n",
      "   0   0   0   0   0   0   0   0   0   0   0 133 254 254  52   0   0   0   0   0   0   0   0   0   0   0   0   0\n",
      "\n",
      "   0   0   0   0   0   0   0   0   0   0  61 242 254 254  52   0   0   0   0   0   0   0   0   0   0   0   0   0\n",
      "\n",
      "   0   0   0   0   0   0   0   0   0   0 121 254 254 219  40   0   0   0   0   0   0   0   0   0   0   0   0   0\n",
      "\n",
      "   0   0   0   0   0   0   0   0   0   0 121 254 207  18   0   0   0   0   0   0   0   0   0   0   0   0   0   0\n",
      "\n",
      "   0   0   0   0   0   0   0   0   0   0   0   0   0   0   0   0   0   0   0   0   0   0   0   0   0   0   0   0\n",
      "\n"
     ]
    }
   ],
   "source": []
  },
  {
   "cell_type": "code",
   "execution_count": 55,
   "metadata": {},
   "outputs": [
    {
     "name": "stdout",
     "output_type": "stream",
     "text": [
      "   0   0   0   0   0   0   0   0   0   0   0   0   0   0   0   0   0   0   0   0   0   0   0   0   0   0   0   0\n",
      "\n",
      "   0   0   0   0   0   0   0   0   0   0   0   0   0   0   0   0   0   0   0   0   0   0   0   0   0   0   0   0\n",
      "\n",
      "   0   0   0   0   0   0   0   0   0   0   0   0   0   0   0   0   0   0   0   0   0   0   0   0   0   0   0   0\n",
      "\n",
      "   0   0   0   0   0   0   0   0   0   0   0   0   0   0   0   0   0   0   0   0   0   0   0   0   0   0   0   0\n",
      "\n",
      "   0   0   0   0   0   0   0   0   0   0   0   0   0   0   0   0   0   0   0   0   0   0   0   0   0   0   0   0\n",
      "\n",
      "   0   0   0   0   0   0   0   0   0   0   0   0   0   0   0   0   0   0   0   0   0   0   0   0   0   0   0   0\n",
      "\n",
      "   0   0   0   0   0 164 241 216 103 230  43 112 148   0   0   0   0   0   0   0   0   0   0   0   0   0   0   0\n",
      "\n",
      "   0   0   0   0   0 170  53 107 207 100  85  29 209  82  82  82  82  82  82 198  92  54 100   0   0   0   0   0\n",
      "\n",
      "   0   0   0   0   0 129 240 254 118 158 100 212  48  47 163  76  56 203  63 123  72 250  92   0   0   0   0   0\n",
      "\n",
      "   0   0   0   0   0  33 246   8 254 131 109 227 233 227 238  79  35  64  84  13 206  50 246   0   0   0   0   0\n",
      "\n",
      "   0   0   0   0   0  67 114 139 228 235 102   5  86  91 168 197 185  13  82 210  36 113  86   0   0   0   0   0\n",
      "\n",
      "   0   0   0   0   0   0   0   0   0   0  17  66  31 133  81 134 236  78 108 193  96  41 106   0   0   0   0   0\n",
      "\n",
      "   0   0   0   0   0   0   0   0   0   0   0   0   0   0   0   0 155 223 239  69  23  77  18   0   0   0   0   0\n",
      "\n",
      "   0   0   0   0   0   0   0   0   0   0   0   0   0   0   0  39 175  39  72 136 157  83   0   0   0   0   0   0\n",
      "\n",
      "   0   0   0   0   0   0   0   0   0   0   0   0   0   0   0 212 107   4 131 122 223  44   0   0   0   0   0   0\n",
      "\n",
      "   0   0   0   0   0   0   0   0   0   0   0   0   0   0  45 202 139 163   4  90  62   0   0   0   0   0   0   0\n",
      "\n",
      "   0   0   0   0   0   0   0   0   0   0   0   0   0   0 127 216 162  38  85 187   5   0   0   0   0   0   0   0\n",
      "\n",
      "   0   0   0   0   0   0   0   0   0   0   0   0   0 119 185 145 207 220  77  58   0   0   0   0   0   0   0   0\n",
      "\n",
      "   0   0   0   0   0   0   0   0   0   0   0   0  95 175 169 137 249 126 182   0   0   0   0   0   0   0   0   0\n",
      "\n",
      "   0   0   0   0   0   0   0   0   0   0   0  15  13   6 151 109  18 135  57   0   0   0   0   0   0   0   0   0\n",
      "\n",
      "   0   0   0   0   0   0   0   0   0   0   0 193   0 243 109 175  93 166   0   0   0   0   0   0   0   0   0   0\n",
      "\n",
      "   0   0   0   0   0   0   0   0   0   0 155 168 142 152 109  99 216  35   0   0   0   0   0   0   0   0   0   0\n",
      "\n",
      "   0   0   0   0   0   0   0   0   0   0 184 191  33 155 108 100  77   0   0   0   0   0   0   0   0   0   0   0\n",
      "\n",
      "   0   0   0   0   0   0   0   0   0  49 155  25  53 139 161 215   1   0   0   0   0   0   0   0   0   0   0   0\n",
      "\n",
      "   0   0   0   0   0   0   0   0   0 154  96 105 200  11 253 188   0   0   0   0   0   0   0   0   0   0   0   0\n",
      "\n",
      "   0   0   0   0   0   0   0   0   0  19  81 211 246 181  24  52   0   0   0   0   0   0   0   0   0   0   0   0\n",
      "\n",
      "   0   0   0   0   0   0   0   0   0 242 238  66 137  74 219  40   0   0   0   0   0   0   0   0   0   0   0   0\n",
      "\n",
      "   0   0   0   0   0   0   0   0   0   0   0   0   0   0   0   0   0   0   0   0   0   0   0   0   0   0   0   0\n",
      "\n"
     ]
    }
   ],
   "source": [
    "vis_2darray(conv_out_img)"
   ]
  },
  {
   "cell_type": "code",
   "execution_count": null,
   "metadata": {},
   "outputs": [],
   "source": []
  },
  {
   "cell_type": "code",
   "execution_count": 55,
   "metadata": {},
   "outputs": [
    {
     "data": {
      "text/plain": [
       "0.0"
      ]
     },
     "execution_count": 55,
     "metadata": {},
     "output_type": "execute_result"
    }
   ],
   "source": [
    "# for every element in the image, take a nearby region, equivalent to the size of the filter, centre the filter"
   ]
  },
  {
   "cell_type": "code",
   "execution_count": 9,
   "metadata": {},
   "outputs": [],
   "source": [
    "def vis_2darray(array):\n",
    "    # Assuming a 2d array is passed.\n",
    "    for row in array:\n",
    "        for val in row:\n",
    "            str_val = str(val)\n",
    "            padd = 4 - len(str_val)\n",
    "            \n",
    "            padd_str = \" \"*padd\n",
    "            print(padd_str+str_val, end=\"\")\n",
    "            \n",
    "        print(\"\\n\")"
   ]
  },
  {
   "cell_type": "code",
   "execution_count": 11,
   "metadata": {},
   "outputs": [],
   "source": [
    "test_img = cv2.imread(\"test_img.png\", 0)"
   ]
  },
  {
   "cell_type": "code",
   "execution_count": 13,
   "metadata": {},
   "outputs": [
    {
     "name": "stdout",
     "output_type": "stream",
     "text": [
      "   0   0   0   0   0   0   0   0   0   0   0   0   0   0   0   0   0   0   0   0   0   0   0   0   0   0   0   0\n",
      "\n",
      "   0   0   0   0   0   0   0   0   0   0   0   0   0   0   0   0   0   0   0   0   0   0   0   0   0   0   0   0\n",
      "\n",
      "   0   0   0   0   0   0   0   0   0   0   0   0   0   0   0   0   0   0   0   0   0   0   0   0   0   0   0   0\n",
      "\n",
      "   0   0   0   0   0   0   0   0   0   0   0   0   0   0   0   0   0   0   0   0   0   0   0   0   0   0   0   0\n",
      "\n",
      "   0   0   0   0   0   0   0   0   0   0   0   0   0   0   0   0   0   0   0   0   0   0   0   0   0   0   0   0\n",
      "\n",
      "   0   0   0   0   0   0   0   0   0   0   0   0   0   0   0   0   0   0   0   0   0   0   0   0   0   0   0   0\n",
      "\n",
      "   0   0   0   0   0   0   0   0   0   0   0   0   0   0   0   0   0   0   0   0   0   0   0   0   0   0   0   0\n",
      "\n",
      "   0   0   0   0   0   0  84 185 159 151  60  36   0   0   0   0   0   0   0   0   0   0   0   0   0   0   0   0\n",
      "\n",
      "   0   0   0   0   0   0 222 254 254 254 254 241 198 198 198 198 198 198 198 198 170  52   0   0   0   0   0   0\n",
      "\n",
      "   0   0   0   0   0   0  67 114  72 114 163 227 254 225 254 254 254 250 229 254 254 140   0   0   0   0   0   0\n",
      "\n",
      "   0   0   0   0   0   0   0   0   0   0   0  17  66  14  67  67  67  59  21 236 254 106   0   0   0   0   0   0\n",
      "\n",
      "   0   0   0   0   0   0   0   0   0   0   0   0   0   0   0   0   0   0  83 253 209  18   0   0   0   0   0   0\n",
      "\n",
      "   0   0   0   0   0   0   0   0   0   0   0   0   0   0   0   0   0  22 233 255  83   0   0   0   0   0   0   0\n",
      "\n",
      "   0   0   0   0   0   0   0   0   0   0   0   0   0   0   0   0   0 129 254 238  44   0   0   0   0   0   0   0\n",
      "\n",
      "   0   0   0   0   0   0   0   0   0   0   0   0   0   0   0   0  59 249 254  62   0   0   0   0   0   0   0   0\n",
      "\n",
      "   0   0   0   0   0   0   0   0   0   0   0   0   0   0   0   0 133 254 187   5   0   0   0   0   0   0   0   0\n",
      "\n",
      "   0   0   0   0   0   0   0   0   0   0   0   0   0   0   0   9 205 248  58   0   0   0   0   0   0   0   0   0\n",
      "\n",
      "   0   0   0   0   0   0   0   0   0   0   0   0   0   0   0 126 254 182   0   0   0   0   0   0   0   0   0   0\n",
      "\n",
      "   0   0   0   0   0   0   0   0   0   0   0   0   0   0  75 251 240  57   0   0   0   0   0   0   0   0   0   0\n",
      "\n",
      "   0   0   0   0   0   0   0   0   0   0   0   0   0  19 221 254 166   0   0   0   0   0   0   0   0   0   0   0\n",
      "\n",
      "   0   0   0   0   0   0   0   0   0   0   0   0   3 203 254 219  35   0   0   0   0   0   0   0   0   0   0   0\n",
      "\n",
      "   0   0   0   0   0   0   0   0   0   0   0   0  38 254 254  77   0   0   0   0   0   0   0   0   0   0   0   0\n",
      "\n",
      "   0   0   0   0   0   0   0   0   0   0   0  31 224 254 115   1   0   0   0   0   0   0   0   0   0   0   0   0\n",
      "\n",
      "   0   0   0   0   0   0   0   0   0   0   0 133 254 254  52   0   0   0   0   0   0   0   0   0   0   0   0   0\n",
      "\n",
      "   0   0   0   0   0   0   0   0   0   0  61 242 254 254  52   0   0   0   0   0   0   0   0   0   0   0   0   0\n",
      "\n",
      "   0   0   0   0   0   0   0   0   0   0 121 254 254 219  40   0   0   0   0   0   0   0   0   0   0   0   0   0\n",
      "\n",
      "   0   0   0   0   0   0   0   0   0   0 121 254 207  18   0   0   0   0   0   0   0   0   0   0   0   0   0   0\n",
      "\n",
      "   0   0   0   0   0   0   0   0   0   0   0   0   0   0   0   0   0   0   0   0   0   0   0   0   0   0   0   0\n",
      "\n"
     ]
    }
   ],
   "source": [
    "vis_2darray(test_img)"
   ]
  },
  {
   "cell_type": "code",
   "execution_count": 58,
   "metadata": {},
   "outputs": [
    {
     "data": {
      "text/plain": [
       "True"
      ]
     },
     "execution_count": 58,
     "metadata": {},
     "output_type": "execute_result"
    }
   ],
   "source": [
    "cv2.imwrite(\"conv_out_img.png\", conv_out_img)"
   ]
  },
  {
   "cell_type": "code",
   "execution_count": 59,
   "metadata": {},
   "outputs": [
    {
     "data": {
      "image/png": "[encoded data removed]",
      "text/plain": [
       "<IPython.core.display.Image object>"
      ]
     },
     "execution_count": 59,
     "metadata": {
      "image/png": {
       "height": 250,
       "width": 250
      }
     },
     "output_type": "execute_result"
    }
   ],
   "source": [
    "Image(\"conv_out_img.png\", height = 250, width = 250)"
   ]
  },
  {
   "cell_type": "code",
   "execution_count": null,
   "metadata": {},
   "outputs": [],
   "source": []
  },
  {
   "cell_type": "code",
   "execution_count": 61,
   "metadata": {},
   "outputs": [],
   "source": [
    "filt_1 = np.array([\n",
    "    [1, 0, -1],\n",
    "    [2, 0, -2],\n",
    "    [1, 0, -1]], dtype=np.uint8)"
   ]
  },
  {
   "cell_type": "code",
   "execution_count": 62,
   "metadata": {},
   "outputs": [],
   "source": [
    "result = conv(test_img, filt_1)"
   ]
  },
  {
   "cell_type": "code",
   "execution_count": 63,
   "metadata": {},
   "outputs": [
    {
     "name": "stdout",
     "output_type": "stream",
     "text": [
      "   0   0   0   0   0   0   0   0   0   0   0   0   0   0   0   0   0   0   0   0   0   0   0   0   0   0   0   0\n",
      "\n",
      "   0   0   0   0   0   0   0   0   0   0   0   0   0   0   0   0   0   0   0   0   0   0   0   0   0   0   0   0\n",
      "\n",
      "   0   0   0   0   0   0   0   0   0   0   0   0   0   0   0   0   0   0   0   0   0   0   0   0   0   0   0   0\n",
      "\n",
      "   0   0   0   0   0   0   0   0   0   0   0   0   0   0   0   0   0   0   0   0   0   0   0   0   0   0   0   0\n",
      "\n",
      "   0   0   0   0   0   0   0   0   0   0   0   0   0   0   0   0   0   0   0   0   0   0   0   0   0   0   0   0\n",
      "\n",
      "   0   0   0   0   0   0   0   0   0   0   0   0   0   0   0   0   0   0   0   0   0   0   0   0   0   0   0   0\n",
      "\n",
      "   0   0   0   0   0 172  71 181  34  99 115  60  36   0   0   0   0   0   0   0   0   0   0   0   0   0   0   0\n",
      "\n",
      "   0   0   0   0   0 122 144  74  68 198 243 176 115   0   0   0   0   0   0  28 146 170  52   0   0   0   0   0\n",
      "\n",
      "   0   0   0   0   0 173 217 112  34   8  28  81 124   0 227   0   4  25 252  31 150  82 244   0   0   0   0   0\n",
      "\n",
      "   0   0   0   0   0 156  30 214   0  74  26  64  50 255 145   0  16  96  71   1 248 164 182   0   0   0   0   0\n",
      "\n",
      "   0   0   0   0   0 189 142 251   0 165 109  33   8 254 121   0  20  34 157 151  97 203 114   0   0   0   0   0\n",
      "\n",
      "   0   0   0   0   0   0   0   0   0   0 239 190   3 255 203   0 242 159 108 177  87 243 142   0   0   0   0   0\n",
      "\n",
      "   0   0   0   0   0   0   0   0   0   0   0   0   0   0   0   0  83 221 196 128 215 163  18   0   0   0   0   0\n",
      "\n",
      "   0   0   0   0   0   0   0   0   0   0   0   0   0   0   0 197 239  88 248  56  25 171   0   0   0   0   0   0\n",
      "\n",
      "   0   0   0   0   0   0   0   0   0   0   0   0   0   0   0   5 143  70   2 137 111  44   0   0   0   0   0   0\n",
      "\n",
      "   0   0   0   0   0   0   0   0   0   0   0   0   0   0 247 238  28 100 165 174  72   0   0   0   0   0   0   0\n",
      "\n",
      "   0   0   0   0   0   0   0   0   0   0   0   0   0   0 112 227 236 238 159  47   5   0   0   0   0   0   0   0\n",
      "\n",
      "   0   0   0   0   0   0   0   0   0   0   0   0   0 181   0 146  99 127 157  58   0   0   0   0   0   0   0   0\n",
      "\n",
      "   0   0   0   0   0   0   0   0   0   0   0   0 237 141 161 239  74 132  40   0   0   0   0   0   0   0   0   0\n",
      "\n",
      "   0   0   0   0   0   0   0   0   0   0   0 253  15   0  31 164 153  95  57   0   0   0   0   0   0   0   0   0\n",
      "\n",
      "   0   0   0   0   0   0   0   0   0   0   0 212  89  85 166 235   1 236   0   0   0   0   0   0   0   0   0   0\n",
      "\n",
      "   0   0   0   0   0   0   0   0   0   0 225 209  90 194  79  74 118  35   0   0   0   0   0   0   0   0   0   0\n",
      "\n",
      "   0   0   0   0   0   0   0   0   0   0  61  28 203 204 169  24  79   0   0   0   0   0   0   0   0   0   0   0\n",
      "\n",
      "   0   0   0   0   0   0   0   0   0 195 229  99  35 203 247  15   1   0   0   0   0   0   0   0   0   0   0   0\n",
      "\n",
      "   0   0   0   0   0   0   0   0   0  13 153 251 146  52 213 196   0   0   0   0   0   0   0   0   0   0   0   0\n",
      "\n",
      "   0   0   0   0   0   0   0   0   0  88  20 223  38  69 198 132   0   0   0   0   0   0   0   0   0   0   0   0\n",
      "\n",
      "   0   0   0   0   0   0   0   0   0 149   6 207 251 116 255  40   0   0   0   0   0   0   0   0   0   0   0   0\n",
      "\n",
      "   0   0   0   0   0   0   0   0   0   0   0   0   0   0   0   0   0   0   0   0   0   0   0   0   0   0   0   0\n",
      "\n"
     ]
    }
   ],
   "source": [
    "vis_2darray(result)"
   ]
  },
  {
   "cell_type": "code",
   "execution_count": 64,
   "metadata": {},
   "outputs": [
    {
     "data": {
      "text/plain": [
       "True"
      ]
     },
     "execution_count": 64,
     "metadata": {},
     "output_type": "execute_result"
    }
   ],
   "source": [
    "cv2.imwrite(\"new_conv_result.png\", result)"
   ]
  },
  {
   "cell_type": "code",
   "execution_count": 65,
   "metadata": {},
   "outputs": [
    {
     "data": {
      "image/png": "[encoded data removed]",
      "text/plain": [
       "<IPython.core.display.Image object>"
      ]
     },
     "execution_count": 65,
     "metadata": {
      "image/png": {
       "height": 250,
       "width": 250
      }
     },
     "output_type": "execute_result"
    }
   ],
   "source": [
    "Image(\"new_conv_result.png\", height=250, width=250)"
   ]
  },
  {
   "cell_type": "markdown",
   "metadata": {},
   "source": [
    "## Forward Prop"
   ]
  },
  {
   "cell_type": "code",
   "execution_count": null,
   "metadata": {},
   "outputs": [],
   "source": []
  },
  {
   "cell_type": "code",
   "execution_count": null,
   "metadata": {},
   "outputs": [],
   "source": []
  },
  {
   "cell_type": "code",
   "execution_count": null,
   "metadata": {},
   "outputs": [],
   "source": []
  },
  {
   "cell_type": "code",
   "execution_count": null,
   "metadata": {},
   "outputs": [],
   "source": []
  },
  {
   "cell_type": "markdown",
   "metadata": {},
   "source": [
    "## Back Prop"
   ]
  },
  {
   "cell_type": "code",
   "execution_count": null,
   "metadata": {},
   "outputs": [],
   "source": []
  },
  {
   "cell_type": "code",
   "execution_count": null,
   "metadata": {},
   "outputs": [],
   "source": []
  },
  {
   "cell_type": "code",
   "execution_count": null,
   "metadata": {},
   "outputs": [],
   "source": []
  },
  {
   "cell_type": "code",
   "execution_count": null,
   "metadata": {},
   "outputs": [],
   "source": []
  },
  {
   "cell_type": "code",
   "execution_count": null,
   "metadata": {},
   "outputs": [],
   "source": []
  },
  {
   "cell_type": "code",
   "execution_count": null,
   "metadata": {},
   "outputs": [],
   "source": []
  },
  {
   "cell_type": "code",
   "execution_count": null,
   "metadata": {},
   "outputs": [],
   "source": []
  },
  {
   "cell_type": "code",
   "execution_count": null,
   "metadata": {},
   "outputs": [],
   "source": [
    "## Utility Functions.."
   ]
  },
  {
   "cell_type": "code",
   "execution_count": 56,
   "metadata": {},
   "outputs": [
    {
     "ename": "ModuleNotFoundError",
     "evalue": "No module named 'cStringIO'",
     "output_type": "error",
     "traceback": [
      "\u001b[0;31m---------------------------------------------------------------------------\u001b[0m",
      "\u001b[0;31mModuleNotFoundError\u001b[0m                       Traceback (most recent call last)",
      "\u001b[0;32m<ipython-input-56-c36c7b1a021a>\u001b[0m in \u001b[0;36m<module>\u001b[0;34m()\u001b[0m\n\u001b[1;32m      1\u001b[0m \u001b[0;32mimport\u001b[0m \u001b[0mPIL\u001b[0m\u001b[0;34m.\u001b[0m\u001b[0mImage\u001b[0m\u001b[0;34m\u001b[0m\u001b[0m\n\u001b[0;32m----> 2\u001b[0;31m \u001b[0;32mfrom\u001b[0m \u001b[0mcStringIO\u001b[0m \u001b[0;32mimport\u001b[0m \u001b[0mStringIO\u001b[0m\u001b[0;34m\u001b[0m\u001b[0m\n\u001b[0m\u001b[1;32m      3\u001b[0m \u001b[0;32mimport\u001b[0m \u001b[0mIPython\u001b[0m\u001b[0;34m.\u001b[0m\u001b[0mdisplay\u001b[0m\u001b[0;34m\u001b[0m\u001b[0m\n\u001b[1;32m      4\u001b[0m \u001b[0;32mimport\u001b[0m \u001b[0mnumpy\u001b[0m \u001b[0;32mas\u001b[0m \u001b[0mnp\u001b[0m\u001b[0;34m\u001b[0m\u001b[0m\n\u001b[1;32m      5\u001b[0m \u001b[0;32mdef\u001b[0m \u001b[0mshowarray\u001b[0m\u001b[0;34m(\u001b[0m\u001b[0ma\u001b[0m\u001b[0;34m,\u001b[0m \u001b[0mfmt\u001b[0m\u001b[0;34m=\u001b[0m\u001b[0;34m'png'\u001b[0m\u001b[0;34m)\u001b[0m\u001b[0;34m:\u001b[0m\u001b[0;34m\u001b[0m\u001b[0m\n",
      "\u001b[0;31mModuleNotFoundError\u001b[0m: No module named 'cStringIO'"
     ]
    }
   ],
   "source": []
  },
  {
   "cell_type": "code",
   "execution_count": 57,
   "metadata": {},
   "outputs": [
    {
     "name": "stdout",
     "output_type": "stream",
     "text": [
      "Collecting cStringIO\n",
      "\u001b[31m  Could not find a version that satisfies the requirement cStringIO (from versions: )\u001b[0m\n",
      "\u001b[31mNo matching distribution found for cStringIO\u001b[0m\n",
      "\u001b[33mYou are using pip version 18.0, however version 19.3.1 is available.\n",
      "You should consider upgrading via the 'pip install --upgrade pip' command.\u001b[0m\n"
     ]
    }
   ],
   "source": [
    "!pip install cStringIO"
   ]
  },
  {
   "cell_type": "code",
   "execution_count": null,
   "metadata": {},
   "outputs": [],
   "source": []
  }
 ],
 "metadata": {
  "kernelspec": {
   "display_name": "Python 3",
   "language": "python",
   "name": "python3"
  },
  "language_info": {
   "codemirror_mode": {
    "name": "ipython",
    "version": 3
   },
   "file_extension": ".py",
   "mimetype": "text/x-python",
   "name": "python",
   "nbconvert_exporter": "python",
   "pygments_lexer": "ipython3",
   "version": "3.6.5"
  }
 },
 "nbformat": 4,
 "nbformat_minor": 2
}
