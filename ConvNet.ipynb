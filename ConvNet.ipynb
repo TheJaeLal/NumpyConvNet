{
 "cells": [
  {
   "cell_type": "markdown",
   "metadata": {},
   "source": [
    "### 1. Build a simple convolution operation.."
   ]
  },
  {
   "cell_type": "markdown",
   "metadata": {},
   "source": [
    "### 2. Add support for multi channel inputs and outputs"
   ]
  },
  {
   "cell_type": "markdown",
   "metadata": {},
   "source": [
    "### 3. Add ReLU and Max Pool / Average Pool operations"
   ]
  },
  {
   "cell_type": "markdown",
   "metadata": {},
   "source": [
    "### 4. Compare implementation with tensorflow and optimizing operations"
   ]
  },
  {
   "cell_type": "markdown",
   "metadata": {},
   "source": [
    "### 5. Encapsulate everything as functions/objects and create a forward prop flow"
   ]
  },
  {
   "cell_type": "markdown",
   "metadata": {},
   "source": [
    "### Get the image"
   ]
  },
  {
   "cell_type": "code",
   "execution_count": 36,
   "metadata": {},
   "outputs": [],
   "source": [
    "import numpy as np\n",
    "import cv2\n",
    "from IPython.display import Image\n",
    "\n",
    "import viz_utils"
   ]
  },
  {
   "cell_type": "code",
   "execution_count": 37,
   "metadata": {},
   "outputs": [
    {
     "data": {
      "image/png": "[encoded data removed]",
      "text/plain": [
       "<IPython.core.display.Image object>"
      ]
     },
     "execution_count": 37,
     "metadata": {
      "image/png": {
       "height": 250,
       "width": 250
      }
     },
     "output_type": "execute_result"
    }
   ],
   "source": [
    "Image(\"test_img.png\", height= 250, width=250)"
   ]
  },
  {
   "cell_type": "code",
   "execution_count": 38,
   "metadata": {},
   "outputs": [],
   "source": [
    "test_img = cv2.imread(\"test_img.png\")"
   ]
  },
  {
   "cell_type": "code",
   "execution_count": 39,
   "metadata": {},
   "outputs": [
    {
     "data": {
      "text/plain": [
       "(28, 28, 3)"
      ]
     },
     "execution_count": 39,
     "metadata": {},
     "output_type": "execute_result"
    }
   ],
   "source": [
    "test_img.shape"
   ]
  },
  {
   "cell_type": "code",
   "execution_count": 40,
   "metadata": {},
   "outputs": [],
   "source": [
    "test_img = test_img.transpose([2,0,1])"
   ]
  },
  {
   "cell_type": "code",
   "execution_count": 41,
   "metadata": {},
   "outputs": [
    {
     "data": {
      "text/plain": [
       "(3, 28, 28)"
      ]
     },
     "execution_count": 41,
     "metadata": {},
     "output_type": "execute_result"
    }
   ],
   "source": [
    "test_img.shape"
   ]
  },
  {
   "cell_type": "code",
   "execution_count": 42,
   "metadata": {},
   "outputs": [],
   "source": [
    "test_img = test_img.astype(np.float32)"
   ]
  },
  {
   "cell_type": "markdown",
   "metadata": {},
   "source": [
    "### Define convolution operation"
   ]
  },
  {
   "cell_type": "code",
   "execution_count": 43,
   "metadata": {},
   "outputs": [],
   "source": [
    "def conv(img, conv_filter):\n",
    "    \n",
    "    n = len(conv_filter)\n",
    "    H,W = img.shape[:2]\n",
    "    \n",
    "    # Create a bigger padded image\n",
    "    padded_img = np.zeros((H+2*(n//2), W+2*(n//2)), img.dtype.type)\n",
    "    \n",
    "    # copy the current image into it.\n",
    "    padded_img[n//2:n//2+H, n//2:n//2+W] = img\n",
    "    \n",
    "    # Get the new Height and Width\n",
    "    Hnew, Wnew = padded_img.shape[:2]\n",
    "    \n",
    "    # Create an empty output image..\n",
    "    conv_out_img = np.zeros_like(padded_img)\n",
    "    \n",
    "    for x in range(n//2, Wnew-n//2):\n",
    "        for y in range(n//2, Hnew-n//2):\n",
    "            conv_out_img[y, x] = np.sum(conv_filter * padded_img[y-n//2:y+n//2+1, x-n//2:x+n//2+1])\n",
    "\n",
    "    # Remove the padding\n",
    "    conv_out_img = conv_out_img[n//2:n//2+H, n//2:n//2+W]\n",
    "    \n",
    "    return conv_out_img"
   ]
  },
  {
   "cell_type": "code",
   "execution_count": null,
   "metadata": {},
   "outputs": [],
   "source": []
  },
  {
   "cell_type": "markdown",
   "metadata": {},
   "source": [
    "### Random filter generator"
   ]
  },
  {
   "cell_type": "code",
   "execution_count": 44,
   "metadata": {},
   "outputs": [],
   "source": [
    "def get_random_filter(num_filters, filter_channels, filter_height, filter_width, seed=10):\n",
    "    np.random.seed(seed)\n",
    "    \n",
    "    return np.random.randn(num_filters, filter_channels, filter_height, filter_width)"
   ]
  },
  {
   "cell_type": "code",
   "execution_count": 45,
   "metadata": {},
   "outputs": [],
   "source": [
    "conv_filters = get_random_filter(5, 3, 3, 3)"
   ]
  },
  {
   "cell_type": "code",
   "execution_count": 46,
   "metadata": {},
   "outputs": [
    {
     "data": {
      "text/plain": [
       "(5, 3, 3, 3)"
      ]
     },
     "execution_count": 46,
     "metadata": {},
     "output_type": "execute_result"
    }
   ],
   "source": [
    "conv_filters.shape"
   ]
  },
  {
   "cell_type": "code",
   "execution_count": 47,
   "metadata": {},
   "outputs": [],
   "source": [
    "# Assume 3 input channels and 5 output channels...\n",
    "\n",
    "# for 3d input we have 3d filters\n",
    "# Num filters == Num output channels\n",
    "\n",
    "\n",
    "# --Outer Loop --#\n",
    "# Goes from 0 to num_out_channels - 1\n",
    "\n",
    "    # -- Inner Loop -- #\n",
    "    # Goes from 0 to num_in_channels -1\n",
    "    \n",
    "    # Conv filter 0-Channel-0 *conv_op* Input channel 0\n",
    "    # Conv filter 0-Channel-1 *conv_op* Input channel 1\n",
    "    # Conv filter 0-Channel-2 *conv_op* Input channel 2\n",
    "\n",
    "    # -- Inner Loop -- #\n",
    "    # Conv filter 1-Channel-0 *conv_op* Input channel 0\n",
    "    # Conv filter 1-Channel-1 *conv_op* Input channel 1\n",
    "    # Conv filter 1-Channel-2 *conv_op* Input channel 2\n",
    "\n",
    "\n",
    "    # -- Inner Loop -- #\n",
    "    # Conv filter 2-Channel-0 *conv_op* Input channel 0\n",
    "    # Conv filter 2-Channel-1 *conv_op* Input channel 1\n",
    "    # Conv filter 2-Channel-2 *conv_op* Input channel 2\n",
    "\n",
    "    \n",
    "    # -- Inner Loop -- #\n",
    "    # Conv filter 3-Channel-0 *conv_op* Input channel 0\n",
    "    # Conv filter 3-Channel-1 *conv_op* Input channel 1\n",
    "    # Conv filter 3-Channel-2 *conv_op* Input channel 2\n",
    "\n",
    "    \n",
    "    # -- Inner Loop -- #\n",
    "    # Conv filter 4-Channel-0 *conv_op* Input channel 0\n",
    "    # Conv filter 4-Channel-1 *conv_op* Input channel 1\n",
    "    # Conv filter 4-Channel-2 *conv_op* Input channel 2\n",
    "\n",
    "    \n",
    "    \n"
   ]
  },
  {
   "cell_type": "code",
   "execution_count": 48,
   "metadata": {},
   "outputs": [
    {
     "data": {
      "text/plain": [
       "(5, 3, 3, 3)"
      ]
     },
     "execution_count": 48,
     "metadata": {},
     "output_type": "execute_result"
    }
   ],
   "source": [
    "conv_filters.shape"
   ]
  },
  {
   "cell_type": "code",
   "execution_count": 49,
   "metadata": {},
   "outputs": [
    {
     "data": {
      "text/plain": [
       "array([[[ 1.39799638, -0.27124799,  0.61320418],\n",
       "        [-0.26731719, -0.54930901,  0.1327083 ],\n",
       "        [-0.47614201,  1.30847308,  0.19501328]],\n",
       "\n",
       "       [[ 0.40020999, -0.33763234,  1.25647226],\n",
       "        [-0.7319695 ,  0.66023155, -0.35087189],\n",
       "        [-0.93943336, -0.48933722, -0.80459114]],\n",
       "\n",
       "       [[-0.21269764, -0.33914025,  0.31216994],\n",
       "        [ 0.56515267, -0.14742026, -0.02590534],\n",
       "        [ 0.2890942 , -0.53987907,  0.70816002]]])"
      ]
     },
     "execution_count": 49,
     "metadata": {},
     "output_type": "execute_result"
    }
   ],
   "source": [
    "conv_filters[1]"
   ]
  },
  {
   "cell_type": "code",
   "execution_count": 50,
   "metadata": {},
   "outputs": [],
   "source": [
    "# Channels first vs Channels Last"
   ]
  },
  {
   "cell_type": "code",
   "execution_count": 51,
   "metadata": {},
   "outputs": [],
   "source": [
    "num_channels_out = 5\n",
    "num_channels_in = 3"
   ]
  },
  {
   "cell_type": "code",
   "execution_count": 52,
   "metadata": {},
   "outputs": [],
   "source": [
    "conv_out_multichannel = np.zeros((num_channels_out, 28, 28), dtype = np.float32)"
   ]
  },
  {
   "cell_type": "code",
   "execution_count": 53,
   "metadata": {},
   "outputs": [],
   "source": [
    "for Cout in range(0, num_channels_out):\n",
    "    for Cin in range(0, num_channels_in):\n",
    "#         print(cfonv_out_multichannel[Cout].shape, test_img[Cin].shape, conv_filters[Cout,Cin].shape)\n",
    "        conv_out_multichannel[Cout] += conv(test_img[Cin], conv_filters[Cout,Cin])"
   ]
  },
  {
   "cell_type": "code",
   "execution_count": 59,
   "metadata": {},
   "outputs": [
    {
     "data": {
      "text/plain": [
       "134.25171"
      ]
     },
     "execution_count": 59,
     "metadata": {},
     "output_type": "execute_result"
    }
   ],
   "source": [
    "conv_out_multichannel[2].mean()"
   ]
  },
  {
   "cell_type": "code",
   "execution_count": 20,
   "metadata": {},
   "outputs": [
    {
     "data": {
      "text/plain": [
       "(28,)"
      ]
     },
     "execution_count": 20,
     "metadata": {},
     "output_type": "execute_result"
    }
   ],
   "source": [
    "conv_out_multichannel[0][7].shape"
   ]
  },
  {
   "cell_type": "code",
   "execution_count": 21,
   "metadata": {},
   "outputs": [
    {
     "data": {
      "text/plain": [
       "(5, 28, 28)"
      ]
     },
     "execution_count": 21,
     "metadata": {},
     "output_type": "execute_result"
    }
   ],
   "source": [
    "conv_out_multichannel.shape"
   ]
  },
  {
   "cell_type": "code",
   "execution_count": 70,
   "metadata": {},
   "outputs": [
    {
     "name": "stdout",
     "output_type": "stream",
     "text": [
      " 0.0 0.0 0.0 0.0 0.0 0.0 0.0 0.0 0.0 0.0 0.0 0.0 0.0 0.0 0.0 0.0 0.0 0.0 0.0 0.0 0.0 0.0 0.0 0.0 0.0 0.0 0.0 0.0\n",
      "\n",
      " 0.0 0.0 0.0 0.0 0.0 0.0 0.0 0.0 0.0 0.0 0.0 0.0 0.0 0.0 0.0 0.0 0.0 0.0 0.0 0.0 0.0 0.0 0.0 0.0 0.0 0.0 0.0 0.0\n",
      "\n",
      " 0.0 0.0 0.0 0.0 0.0 0.0 0.0 0.0 0.0 0.0 0.0 0.0 0.0 0.0 0.0 0.0 0.0 0.0 0.0 0.0 0.0 0.0 0.0 0.0 0.0 0.0 0.0 0.0\n",
      "\n",
      " 0.0 0.0 0.0 0.0 0.0 0.0 0.0 0.0 0.0 0.0 0.0 0.0 0.0 0.0 0.0 0.0 0.0 0.0 0.0 0.0 0.0 0.0 0.0 0.0 0.0 0.0 0.0 0.0\n",
      "\n",
      " 0.0 0.0 0.0 0.0 0.0 0.0 0.0 0.0 0.0 0.0 0.0 0.0 0.0 0.0 0.0 0.0 0.0 0.0 0.0 0.0 0.0 0.0 0.0 0.0 0.0 0.0 0.0 0.0\n",
      "\n",
      " 0.0 0.0 0.0 0.0 0.0 0.0 0.0 0.0 0.0 0.0 0.0 0.0 0.0 0.0 0.0 0.0 0.0 0.0 0.0 0.0 0.0 0.0 0.0 0.0 0.0 0.0 0.0 0.0\n",
      "\n",
      " 0.0 0.0 0.0 0.0 0.019.0353.0311.0478.0403.066.0388.065.0 0.0 0.0 0.0 0.0 0.0 0.0 0.0 0.0 0.0 0.0 0.0 0.0 0.0 0.0 0.0\n",
      "\n",
      " 0.0 0.0 0.0 0.0 0.0468.0460.0546.0266.0405.0204.0319.0263.0281.0281.0281.0281.0281.0281.0275.0484.088.094.0 0.0 0.0 0.0 0.0 0.0\n",
      "\n",
      " 0.0 0.0 0.0 0.0 0.0496.0552.0185.0196.0555.0427.0556.0316.0375.0341.0394.0392.0385.0371.0295.0293.0450.0114.0 0.0 0.0 0.0 0.0 0.0\n",
      "\n",
      " 0.0 0.0 0.0 0.0 0.0380.0538.0443.0399.0431.0308.0470.0306.0188.0261.0280.0270.0208.0238.0481.0585.0565.0464.0 0.0 0.0 0.0 0.0 0.0\n",
      "\n",
      " 0.0 0.0 0.0 0.0 0.0357.0509.0273.0298.0588.0330.0526.0458.0327.0495.0428.0423.0403.0527.0505.0499.0332.0371.0 0.0 0.0 0.0 0.0 0.0\n",
      "\n",
      " 0.0 0.0 0.0 0.0 0.0 0.0 0.0 0.0 0.0 0.0473.0361.0273.0533.0399.0281.0306.0358.0499.0493.0407.0554.0486.0 0.0 0.0 0.0 0.0 0.0\n",
      "\n",
      " 0.0 0.0 0.0 0.0 0.0 0.0 0.0 0.0 0.0 0.0 0.0 0.0 0.0 0.0 0.0 0.0328.0434.0489.0650.0315.0408.0302.0 0.0 0.0 0.0 0.0 0.0\n",
      "\n",
      " 0.0 0.0 0.0 0.0 0.0 0.0 0.0 0.0 0.0 0.0 0.0 0.0 0.0 0.0 0.012.0290.0262.0448.0281.0487.0356.0 0.0 0.0 0.0 0.0 0.0 0.0\n",
      "\n",
      " 0.0 0.0 0.0 0.0 0.0 0.0 0.0 0.0 0.0 0.0 0.0 0.0 0.0 0.0 0.0399.0431.0413.0321.0104.0472.0372.0 0.0 0.0 0.0 0.0 0.0 0.0\n",
      "\n",
      " 0.0 0.0 0.0 0.0 0.0 0.0 0.0 0.0 0.0 0.0 0.0 0.0 0.0 0.0 1.0424.0369.0611.0445.0282.0406.0 0.0 0.0 0.0 0.0 0.0 0.0 0.0\n",
      "\n",
      " 0.0 0.0 0.0 0.0 0.0 0.0 0.0 0.0 0.0 0.0 0.0 0.0 0.0 0.0303.0495.0439.0290.0443.0593.013.0 0.0 0.0 0.0 0.0 0.0 0.0 0.0\n",
      "\n",
      " 0.0 0.0 0.0 0.0 0.0 0.0 0.0 0.0 0.0 0.0 0.0 0.0 0.017.0583.0604.0324.0303.0269.0409.0 0.0 0.0 0.0 0.0 0.0 0.0 0.0 0.0\n",
      "\n",
      " 0.0 0.0 0.0 0.0 0.0 0.0 0.0 0.0 0.0 0.0 0.0 0.0 3.0463.0308.0247.0386.0445.0581.0 0.0 0.0 0.0 0.0 0.0 0.0 0.0 0.0 0.0\n",
      "\n",
      " 0.0 0.0 0.0 0.0 0.0 0.0 0.0 0.0 0.0 0.0 0.0 0.0342.0478.0607.0218.0342.0251.0406.0 0.0 0.0 0.0 0.0 0.0 0.0 0.0 0.0 0.0\n",
      "\n",
      " 0.0 0.0 0.0 0.0 0.0 0.0 0.0 0.0 0.0 0.0 0.0270.0175.0388.0474.0270.0552.0599.0 0.0 0.0 0.0 0.0 0.0 0.0 0.0 0.0 0.0 0.0\n",
      "\n",
      " 0.0 0.0 0.0 0.0 0.0 0.0 0.0 0.0 0.0 0.0 7.0394.0344.0386.0272.0274.0374.0347.0 0.0 0.0 0.0 0.0 0.0 0.0 0.0 0.0 0.0 0.0\n",
      "\n",
      " 0.0 0.0 0.0 0.0 0.0 0.0 0.0 0.0 0.0 0.0347.0284.0451.0266.0285.0461.0456.0 0.0 0.0 0.0 0.0 0.0 0.0 0.0 0.0 0.0 0.0 0.0\n",
      "\n",
      " 0.0 0.0 0.0 0.0 0.0 0.0 0.0 0.0 0.014.0276.0291.0526.0110.0329.0514.0 2.0 0.0 0.0 0.0 0.0 0.0 0.0 0.0 0.0 0.0 0.0 0.0\n",
      "\n",
      " 0.0 0.0 0.0 0.0 0.0 0.0 0.0 0.0 0.0400.0404.0644.0259.0310.0511.0325.0 0.0 0.0 0.0 0.0 0.0 0.0 0.0 0.0 0.0 0.0 0.0 0.0\n",
      "\n",
      " 0.0 0.0 0.0 0.0 0.0 0.0 0.0 0.0 0.0372.0294.0406.0369.0508.0445.0284.0 0.0 0.0 0.0 0.0 0.0 0.0 0.0 0.0 0.0 0.0 0.0 0.0\n",
      "\n",
      " 0.0 0.0 0.0 0.0 0.0 0.0 0.0 0.0 0.0460.0131.0299.0175.0578.0532.0362.0 0.0 0.0 0.0 0.0 0.0 0.0 0.0 0.0 0.0 0.0 0.0 0.0\n",
      "\n",
      " 0.0 0.0 0.0 0.0 0.0 0.0 0.0 0.0 0.0232.0444.0111.0385.0291.0302.0 0.0 0.0 0.0 0.0 0.0 0.0 0.0 0.0 0.0 0.0 0.0 0.0 0.0\n",
      "\n"
     ]
    }
   ],
   "source": [
    "viz_utils.vis_2darray(conv_out_multichannel[0])"
   ]
  },
  {
   "cell_type": "code",
   "execution_count": 41,
   "metadata": {},
   "outputs": [
    {
     "name": "stdout",
     "output_type": "stream",
     "text": [
      "   0   0   0   0   0   0   0   0   0   0   0   0   0   0   0   0   0   0   0   0   0   0   0   0   0   0   0   0\n",
      "\n",
      "   0   0   0   0   0   0   0   0   0   0   0   0   0   0   0   0   0   0   0   0   0   0   0   0   0   0   0   0\n",
      "\n",
      "   0   0   0   0   0   0   0   0   0   0   0   0   0   0   0   0   0   0   0   0   0   0   0   0   0   0   0   0\n",
      "\n",
      "   0   0   0   0   0   0   0   0   0   0   0   0   0   0   0   0   0   0   0   0   0   0   0   0   0   0   0   0\n",
      "\n",
      "   0   0   0   0   0   0   0   0   0   0   0   0   0   0   0   0   0   0   0   0   0   0   0   0   0   0   0   0\n",
      "\n",
      "   0   0   0   0   0   0   0   0   0   0   0   0   0   0   0   0   0   0   0   0   0   0   0   0   0   0   0   0\n",
      "\n",
      "   0   0   0   0   0 229 198 166 118 162 172 228 239   0   0   0   0   0   0   0   0   0   0   0   0   0   0   0\n",
      "\n",
      "   0   0   0   0   0 246 231 118 202 190  20 189  15  99  99  99  99  99  99 106 145 174 231   0   0   0   0   0\n",
      "\n",
      "   0   0   0   0   0 212 175 232  31 225 100  82 156 176 190 176 177 184 178 169 133  44  97   0   0   0   0   0\n",
      "\n",
      "   0   0   0   0   0  74 154 115 132 201 151 122  25 203 251 176 174 176 155 245 105 145   7   0   0   0   0   0\n",
      "\n",
      "   0   0   0   0   0 111 163 245   0  49 141  52  17  24 251 184 187 193  63 112 119 141 188   0   0   0   0   0\n",
      "\n",
      "   0   0   0   0   0   0   0   0   0   0 220  87 143 147  22  70  81 168  31  18 130 159  63   0   0   0   0   0\n",
      "\n",
      "   0   0   0   0   0   0   0   0   0   0   0   0   0   0   0   0 230 143 135  51   5 251  15   0   0   0   0   0\n",
      "\n",
      "   0   0   0   0   0   0   0   0   0   0   0   0   0   0   0 237 223 179 216 166 129 253   0   0   0   0   0   0\n",
      "\n",
      "   0   0   0   0   0   0   0   0   0   0   0   0   0   0   0   0  18 254 253 207  37  39   0   0   0   0   0   0\n",
      "\n",
      "   0   0   0   0   0   0   0   0   0   0   0   0   0   0 253 157 111 207 251  32  46   0   0   0   0   0   0   0\n",
      "\n",
      "   0   0   0   0   0   0   0   0   0   0   0   0   0   0 222  25 122 193 129  59   4   0   0   0   0   0   0   0\n",
      "\n",
      "   0   0   0   0   0   0   0   0   0   0   0   0   0 232 248   4 228 234  47  52   0   0   0   0   0   0   0   0\n",
      "\n",
      "   0   0   0   0   0   0   0   0   0   0   0   0 250 240   3 182 124 170  63   0   0   0   0   0   0   0   0   0\n",
      "\n",
      "   0   0   0   0   0   0   0   0   0   0   0 255 204 154 137  64  59  79  51   0   0   0   0   0   0   0   0   0\n",
      "\n",
      "   0   0   0   0   0   0   0   0   0   0   0 246  22 144  85 243  39  88   0   0   0   0   0   0   0   0   0   0\n",
      "\n",
      "   0   0   0   0   0   0   0   0   0   0 246 205 118 156 108  20   9  31   0   0   0   0   0   0   0   0   0   0\n",
      "\n",
      "   0   0   0   0   0   0   0   0   0   0 236 225 184 204  29 143  67   0   0   0   0   0   0   0   0   0   0   0\n",
      "\n",
      "   0   0   0   0   0   0   0   0   0 236 207 180 187  66 207 241   1   0   0   0   0   0   0   0   0   0   0   0\n",
      "\n",
      "   0   0   0   0   0   0   0   0   0   5   3 235  49 235  63 194   0   0   0   0   0   0   0   0   0   0   0   0\n",
      "\n",
      "   0   0   0   0   0   0   0   0   0 172 137  26 164  36 234 233   0   0   0   0   0   0   0   0   0   0   0   0\n",
      "\n",
      "   0   0   0   0   0   0   0   0   0  79 100 151  23 204 105  35   0   0   0   0   0   0   0   0   0   0   0   0\n",
      "\n",
      "   0   0   0   0   0   0   0   0   0 249  30  44 134 158  15   0   0   0   0   0   0   0   0   0   0   0   0   0\n",
      "\n"
     ]
    }
   ],
   "source": [
    "viz_utils.vis_2darray(conv_out_multichannel[3])"
   ]
  },
  {
   "cell_type": "markdown",
   "metadata": {},
   "source": [
    "## Forward Prop"
   ]
  },
  {
   "cell_type": "code",
   "execution_count": null,
   "metadata": {},
   "outputs": [],
   "source": []
  },
  {
   "cell_type": "code",
   "execution_count": null,
   "metadata": {},
   "outputs": [],
   "source": []
  },
  {
   "cell_type": "code",
   "execution_count": null,
   "metadata": {},
   "outputs": [],
   "source": []
  },
  {
   "cell_type": "code",
   "execution_count": null,
   "metadata": {},
   "outputs": [],
   "source": []
  },
  {
   "cell_type": "code",
   "execution_count": null,
   "metadata": {},
   "outputs": [],
   "source": []
  },
  {
   "cell_type": "code",
   "execution_count": null,
   "metadata": {},
   "outputs": [],
   "source": []
  },
  {
   "cell_type": "code",
   "execution_count": null,
   "metadata": {},
   "outputs": [],
   "source": []
  },
  {
   "cell_type": "code",
   "execution_count": null,
   "metadata": {},
   "outputs": [],
   "source": []
  },
  {
   "cell_type": "markdown",
   "metadata": {},
   "source": [
    "## Back Prop"
   ]
  },
  {
   "cell_type": "code",
   "execution_count": null,
   "metadata": {},
   "outputs": [],
   "source": []
  },
  {
   "cell_type": "code",
   "execution_count": null,
   "metadata": {},
   "outputs": [],
   "source": []
  },
  {
   "cell_type": "code",
   "execution_count": null,
   "metadata": {},
   "outputs": [],
   "source": []
  },
  {
   "cell_type": "code",
   "execution_count": null,
   "metadata": {},
   "outputs": [],
   "source": []
  },
  {
   "cell_type": "code",
   "execution_count": null,
   "metadata": {},
   "outputs": [],
   "source": []
  },
  {
   "cell_type": "code",
   "execution_count": null,
   "metadata": {},
   "outputs": [],
   "source": []
  },
  {
   "cell_type": "code",
   "execution_count": null,
   "metadata": {},
   "outputs": [],
   "source": []
  },
  {
   "cell_type": "code",
   "execution_count": null,
   "metadata": {},
   "outputs": [],
   "source": []
  },
  {
   "cell_type": "code",
   "execution_count": null,
   "metadata": {},
   "outputs": [],
   "source": [
    "# class relu_layer():\n",
    "#     def __init__(self):\n",
    "\n",
    "        \n",
    "#     def forward():\n",
    "        \n",
    "\n",
    "# class conv2d_layer():\n",
    "#     def __init__(self, kernel, stride, channels_in, channels_out, initializer):\n",
    "    \n",
    "\n",
    "# class max_pool_layer():\n",
    "#     def __init__(self, kernel, stride)\n",
    "\n",
    "# class CNN():\n",
    "    "
   ]
  },
  {
   "cell_type": "code",
   "execution_count": 5,
   "metadata": {},
   "outputs": [],
   "source": [
    "# import numpy as np\n",
    "# import cv2\n",
    "# import gzip\n",
    "\n",
    "# mnist_img_size = [28,28]\n",
    "\n",
    "# num_samples_to_fetch = 10\n",
    "\n",
    "# np.prod(mnist_img_size)*10\n",
    "\n",
    "# with gzip.open(\"MNIST_Data/t10k-images-idx3-ubyte.gz\") as f:\n",
    "#     # first 16 bytes are header..\n",
    "#     f.read(16)\n",
    "        \n",
    "#     dataBuffer = f.read(np.prod(mnist_img_size)*10)\n",
    "\n",
    "# data = np.frombuffer(dataBuffer, dtype = np.uint8)\n",
    "\n",
    "# images = data.reshape(num_samples_to_fetch, mnist_img_size[0], mnist_img_size[0], 1)\n",
    "\n",
    "# test_img = np.squeeze(images[0])\n",
    "# bufferData = test_img.tobytes()\n",
    "# cv2.imwrite(\"test_img.png\", test_img)"
   ]
  }
 ],
 "metadata": {
  "kernelspec": {
   "display_name": "Python 3",
   "language": "python",
   "name": "python3"
  },
  "language_info": {
   "codemirror_mode": {
    "name": "ipython",
    "version": 3
   },
   "file_extension": ".py",
   "mimetype": "text/x-python",
   "name": "python",
   "nbconvert_exporter": "python",
   "pygments_lexer": "ipython3",
   "version": "3.7.5"
  }
 },
 "nbformat": 4,
 "nbformat_minor": 2
}
