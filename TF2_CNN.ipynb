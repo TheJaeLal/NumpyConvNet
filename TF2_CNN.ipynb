{
 "cells": [
  {
   "cell_type": "code",
   "execution_count": 1,
   "metadata": {},
   "outputs": [],
   "source": [
    "import tensorflow as tf"
   ]
  },
  {
   "cell_type": "code",
   "execution_count": 2,
   "metadata": {},
   "outputs": [
    {
     "data": {
      "text/plain": [
       "'2.0.0'"
      ]
     },
     "execution_count": 2,
     "metadata": {},
     "output_type": "execute_result"
    }
   ],
   "source": [
    "tf.__version__"
   ]
  },
  {
   "cell_type": "code",
   "execution_count": 15,
   "metadata": {},
   "outputs": [],
   "source": [
    "from PIL import Image"
   ]
  },
  {
   "cell_type": "code",
   "execution_count": 16,
   "metadata": {},
   "outputs": [],
   "source": [
    "img = Image.open(\"test_img.png\")"
   ]
  },
  {
   "cell_type": "code",
   "execution_count": 17,
   "metadata": {},
   "outputs": [],
   "source": [
    "grayImg = img.convert(\"L\")"
   ]
  },
  {
   "cell_type": "code",
   "execution_count": 18,
   "metadata": {},
   "outputs": [],
   "source": [
    "import numpy as np"
   ]
  },
  {
   "cell_type": "code",
   "execution_count": 19,
   "metadata": {},
   "outputs": [],
   "source": [
    "grayImg = np.array(grayImg, dtype=np.uint8)"
   ]
  },
  {
   "cell_type": "code",
   "execution_count": 20,
   "metadata": {},
   "outputs": [],
   "source": [
    "grayImg = grayImg.astype(np.float32)"
   ]
  },
  {
   "cell_type": "code",
   "execution_count": 21,
   "metadata": {},
   "outputs": [],
   "source": [
    "grayImg = np.expand_dims(grayImg, axis=0)\n",
    "grayImg = np.expand_dims(grayImg, axis=-1)"
   ]
  },
  {
   "cell_type": "code",
   "execution_count": 22,
   "metadata": {},
   "outputs": [
    {
     "data": {
      "text/plain": [
       "(1, 28, 28, 1)"
      ]
     },
     "execution_count": 22,
     "metadata": {},
     "output_type": "execute_result"
    }
   ],
   "source": [
    "grayImg.shape"
   ]
  },
  {
   "cell_type": "code",
   "execution_count": 24,
   "metadata": {},
   "outputs": [],
   "source": [
    "conv_filter = np.array([[1,0,1],\n",
    "                     [0,2,1],\n",
    "                     [-3,1,5]], dtype=np.float32)"
   ]
  },
  {
   "cell_type": "code",
   "execution_count": 26,
   "metadata": {},
   "outputs": [],
   "source": [
    "conv_filter = np.expand_dims(conv_filter, axis=-1)\n",
    "conv_filter = np.expand_dims(conv_filter, axis=-1)"
   ]
  },
  {
   "cell_type": "code",
   "execution_count": 27,
   "metadata": {},
   "outputs": [
    {
     "data": {
      "text/plain": [
       "(3, 3, 1, 1)"
      ]
     },
     "execution_count": 27,
     "metadata": {},
     "output_type": "execute_result"
    }
   ],
   "source": [
    "conv_filter.shape"
   ]
  },
  {
   "cell_type": "code",
   "execution_count": 28,
   "metadata": {},
   "outputs": [],
   "source": [
    "# with tf.device(\"CPU\"):\n",
    "conv_out = tf.nn.conv2d(grayImg, conv_filter,\n",
    "                        strides = 1, padding = 'SAME')"
   ]
  },
  {
   "cell_type": "code",
   "execution_count": 36,
   "metadata": {},
   "outputs": [],
   "source": [
    "conv_out = conv_out.numpy()"
   ]
  },
  {
   "cell_type": "code",
   "execution_count": 39,
   "metadata": {},
   "outputs": [],
   "source": [
    "conv_out = conv_out.squeeze()"
   ]
  },
  {
   "cell_type": "code",
   "execution_count": 45,
   "metadata": {},
   "outputs": [],
   "source": [
    "conv_out = conv_out.astype(np.uint8)"
   ]
  },
  {
   "cell_type": "code",
   "execution_count": 46,
   "metadata": {},
   "outputs": [],
   "source": [
    "conv_out_img = Image.fromarray(conv_out)"
   ]
  },
  {
   "cell_type": "code",
   "execution_count": 48,
   "metadata": {},
   "outputs": [],
   "source": [
    "conv_out_img.save(\"conv_out_tf.png\")"
   ]
  },
  {
   "cell_type": "code",
   "execution_count": 49,
   "metadata": {},
   "outputs": [],
   "source": [
    "from IPython.display import Image"
   ]
  },
  {
   "cell_type": "code",
   "execution_count": 50,
   "metadata": {},
   "outputs": [
    {
     "data": {
      "image/png": "[encoded data removed]",
      "text/plain": [
       "<IPython.core.display.Image object>"
      ]
     },
     "execution_count": 50,
     "metadata": {
      "image/png": {
       "height": 250,
       "width": 250
      }
     },
     "output_type": "execute_result"
    }
   ],
   "source": [
    "Image(\"conv_out_tf.png\", height=250, width = 250)"
   ]
  },
  {
   "cell_type": "code",
   "execution_count": 51,
   "metadata": {},
   "outputs": [
    {
     "data": {
      "text/plain": [
       "(28, 28)"
      ]
     },
     "execution_count": 51,
     "metadata": {},
     "output_type": "execute_result"
    }
   ],
   "source": [
    "conv_out.shape"
   ]
  },
  {
   "cell_type": "code",
   "execution_count": 52,
   "metadata": {},
   "outputs": [],
   "source": [
    "def vis_2darray(array):\n",
    "    # Assuming a 2d array is passed.\n",
    "    for row in array:\n",
    "        for val in row:\n",
    "            str_val = str(val)\n",
    "            padd = 4 - len(str_val)\n",
    "            \n",
    "            padd_str = \" \"*padd\n",
    "            print(padd_str+str_val, end=\"\")\n",
    "            \n",
    "        print(\"\\n\")"
   ]
  },
  {
   "cell_type": "code",
   "execution_count": 53,
   "metadata": {},
   "outputs": [
    {
     "name": "stdout",
     "output_type": "stream",
     "text": [
      "   0   0   0   0   0   0   0   0   0   0   0   0   0   0   0   0   0   0   0   0   0   0   0   0   0   0   0   0\n",
      "\n",
      "   0   0   0   0   0   0   0   0   0   0   0   0   0   0   0   0   0   0   0   0   0   0   0   0   0   0   0   0\n",
      "\n",
      "   0   0   0   0   0   0   0   0   0   0   0   0   0   0   0   0   0   0   0   0   0   0   0   0   0   0   0   0\n",
      "\n",
      "   0   0   0   0   0   0   0   0   0   0   0   0   0   0   0   0   0   0   0   0   0   0   0   0   0   0   0   0\n",
      "\n",
      "   0   0   0   0   0   0   0   0   0   0   0   0   0   0   0   0   0   0   0   0   0   0   0   0   0   0   0   0\n",
      "\n",
      "   0   0   0   0   0   0   0   0   0   0   0   0   0   0   0   0   0   0   0   0   0   0   0   0   0   0   0   0\n",
      "\n",
      "   0   0   0   0   0 164 241 216 103 230  43 112 148   0   0   0   0   0   0   0   0   0   0   0   0   0   0   0\n",
      "\n",
      "   0   0   0   0   0 170  53 107 207 100  85  29 209  82  82  82  82  82  82 198  92  54 100   0   0   0   0   0\n",
      "\n",
      "   0   0   0   0   0 129 240 254 118 158 100 212  48  47 163  76  56 203  63 123  72 250  92   0   0   0   0   0\n",
      "\n",
      "   0   0   0   0   0  33 246   8 254 131 109 227 233 227 238  79  35  64  84  13 206  50 246   0   0   0   0   0\n",
      "\n",
      "   0   0   0   0   0  67 114 139 228 235 102   5  86  91 168 197 185  13  82 210  36 113  86   0   0   0   0   0\n",
      "\n",
      "   0   0   0   0   0   0   0   0   0   0  17  66  31 133  81 134 236  78 108 193  96  41 106   0   0   0   0   0\n",
      "\n",
      "   0   0   0   0   0   0   0   0   0   0   0   0   0   0   0   0 155 223 239  69  23  77  18   0   0   0   0   0\n",
      "\n",
      "   0   0   0   0   0   0   0   0   0   0   0   0   0   0   0  39 175  39  72 136 157  83   0   0   0   0   0   0\n",
      "\n",
      "   0   0   0   0   0   0   0   0   0   0   0   0   0   0   0 212 107   4 131 122 223  44   0   0   0   0   0   0\n",
      "\n",
      "   0   0   0   0   0   0   0   0   0   0   0   0   0   0  45 202 139 163   4  90  62   0   0   0   0   0   0   0\n",
      "\n",
      "   0   0   0   0   0   0   0   0   0   0   0   0   0   0 127 216 162  38  85 187   5   0   0   0   0   0   0   0\n",
      "\n",
      "   0   0   0   0   0   0   0   0   0   0   0   0   0 119 185 145 207 220  77  58   0   0   0   0   0   0   0   0\n",
      "\n",
      "   0   0   0   0   0   0   0   0   0   0   0   0  95 175 169 137 249 126 182   0   0   0   0   0   0   0   0   0\n",
      "\n",
      "   0   0   0   0   0   0   0   0   0   0   0  15  13   6 151 109  18 135  57   0   0   0   0   0   0   0   0   0\n",
      "\n",
      "   0   0   0   0   0   0   0   0   0   0   0 193   0 243 109 175  93 166   0   0   0   0   0   0   0   0   0   0\n",
      "\n",
      "   0   0   0   0   0   0   0   0   0   0 155 168 142 152 109  99 216  35   0   0   0   0   0   0   0   0   0   0\n",
      "\n",
      "   0   0   0   0   0   0   0   0   0   0 184 191  33 155 108 100  77   0   0   0   0   0   0   0   0   0   0   0\n",
      "\n",
      "   0   0   0   0   0   0   0   0   0  49 155  25  53 139 161 215   1   0   0   0   0   0   0   0   0   0   0   0\n",
      "\n",
      "   0   0   0   0   0   0   0   0   0 154  96 105 200  11 253 188   0   0   0   0   0   0   0   0   0   0   0   0\n",
      "\n",
      "   0   0   0   0   0   0   0   0   0  19  81 211 246 181  24  52   0   0   0   0   0   0   0   0   0   0   0   0\n",
      "\n",
      "   0   0   0   0   0   0   0   0   0 242 238  66 137  74 219  40   0   0   0   0   0   0   0   0   0   0   0   0\n",
      "\n",
      "   0   0   0   0   0   0   0   0   0 121 254  72  16 207  18   0   0   0   0   0   0   0   0   0   0   0   0   0\n",
      "\n"
     ]
    }
   ],
   "source": [
    "vis_2darray(conv_out)"
   ]
  },
  {
   "cell_type": "code",
   "execution_count": null,
   "metadata": {},
   "outputs": [],
   "source": []
  }
 ],
 "metadata": {
  "kernelspec": {
   "display_name": "Python 3",
   "language": "python",
   "name": "python3"
  },
  "language_info": {
   "codemirror_mode": {
    "name": "ipython",
    "version": 3
   },
   "file_extension": ".py",
   "mimetype": "text/x-python",
   "name": "python",
   "nbconvert_exporter": "python",
   "pygments_lexer": "ipython3",
   "version": "3.7.5"
  }
 },
 "nbformat": 4,
 "nbformat_minor": 2
}
