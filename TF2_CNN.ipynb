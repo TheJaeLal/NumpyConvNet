{
 "cells": [
  {
   "cell_type": "code",
   "execution_count": 1,
   "metadata": {},
   "outputs": [],
   "source": [
    "import tensorflow as tf\n",
    "import cv2\n",
    "import numpy as np\n",
    "\n",
    "from IPython.display import Image\n",
    "\n",
    "import viz_utils"
   ]
  },
  {
   "cell_type": "code",
   "execution_count": 2,
   "metadata": {},
   "outputs": [],
   "source": [
    "img = cv2.imread(\"test_img.png\")"
   ]
  },
  {
   "cell_type": "code",
   "execution_count": 3,
   "metadata": {},
   "outputs": [],
   "source": [
    "img = img.transpose([2,0,1])"
   ]
  },
  {
   "cell_type": "code",
   "execution_count": 4,
   "metadata": {},
   "outputs": [
    {
     "data": {
      "text/plain": [
       "(3, 28, 28)"
      ]
     },
     "execution_count": 4,
     "metadata": {},
     "output_type": "execute_result"
    }
   ],
   "source": [
    "img.shape"
   ]
  },
  {
   "cell_type": "code",
   "execution_count": 5,
   "metadata": {},
   "outputs": [],
   "source": [
    "img = img.astype(np.float32)"
   ]
  },
  {
   "cell_type": "code",
   "execution_count": 6,
   "metadata": {},
   "outputs": [],
   "source": [
    "img = np.expand_dims(img, axis=0)"
   ]
  },
  {
   "cell_type": "code",
   "execution_count": 7,
   "metadata": {},
   "outputs": [
    {
     "data": {
      "text/plain": [
       "(1, 3, 28, 28)"
      ]
     },
     "execution_count": 7,
     "metadata": {},
     "output_type": "execute_result"
    }
   ],
   "source": [
    "img.shape"
   ]
  },
  {
   "cell_type": "code",
   "execution_count": 8,
   "metadata": {},
   "outputs": [],
   "source": [
    "def get_random_filter(num_filters, filter_channels, filter_height, filter_width, seed=10):\n",
    "    np.random.seed(seed)\n",
    "    \n",
    "    return np.random.randn(num_filters, filter_channels, filter_height, filter_width)"
   ]
  },
  {
   "cell_type": "code",
   "execution_count": 9,
   "metadata": {},
   "outputs": [],
   "source": [
    "conv_filters = get_random_filter(5, 3, 3, 3)"
   ]
  },
  {
   "cell_type": "code",
   "execution_count": 10,
   "metadata": {},
   "outputs": [],
   "source": [
    "## TF requires 4d array as conv\n",
    "# format of filters for TF --> [filter_height, filter_width, in_channels, out_channels]"
   ]
  },
  {
   "cell_type": "code",
   "execution_count": 11,
   "metadata": {},
   "outputs": [],
   "source": [
    "conv_filters = conv_filters.transpose([2, 3, 1, 0])"
   ]
  },
  {
   "cell_type": "code",
   "execution_count": 12,
   "metadata": {},
   "outputs": [
    {
     "data": {
      "text/plain": [
       "(3, 3, 3, 5)"
      ]
     },
     "execution_count": 12,
     "metadata": {},
     "output_type": "execute_result"
    }
   ],
   "source": [
    "conv_filters.shape"
   ]
  },
  {
   "cell_type": "code",
   "execution_count": 13,
   "metadata": {},
   "outputs": [],
   "source": [
    "conv_out = tf.nn.conv2d(img, conv_filters, strides = 1, padding = 'SAME', data_format = \"NCHW\").numpy()"
   ]
  },
  {
   "cell_type": "code",
   "execution_count": 14,
   "metadata": {},
   "outputs": [
    {
     "data": {
      "text/plain": [
       "(1, 5, 28, 28)"
      ]
     },
     "execution_count": 14,
     "metadata": {},
     "output_type": "execute_result"
    }
   ],
   "source": [
    "conv_out.shape"
   ]
  },
  {
   "cell_type": "code",
   "execution_count": 15,
   "metadata": {},
   "outputs": [],
   "source": [
    "conv_out = conv_out.squeeze()"
   ]
  },
  {
   "cell_type": "code",
   "execution_count": 16,
   "metadata": {},
   "outputs": [
    {
     "data": {
      "text/plain": [
       "(5, 28, 28)"
      ]
     },
     "execution_count": 16,
     "metadata": {},
     "output_type": "execute_result"
    }
   ],
   "source": [
    "conv_out.shape"
   ]
  },
  {
   "cell_type": "code",
   "execution_count": 17,
   "metadata": {},
   "outputs": [],
   "source": [
    "# conv_out = conv_out.astype(np.uint8)"
   ]
  },
  {
   "cell_type": "code",
   "execution_count": 18,
   "metadata": {},
   "outputs": [
    {
     "data": {
      "text/plain": [
       "array([[[ 1.3315865 ,  1.39799638,  0.84222474,  1.74481415,\n",
       "          0.70683045],\n",
       "        [-0.17460021,  0.40020999, -0.69781003,  1.10770823,\n",
       "          0.14110417],\n",
       "        [ 1.484537  , -0.21269764, -0.21578989, -1.95451212,\n",
       "          1.02251611]],\n",
       "\n",
       "       [[ 0.71527897, -0.27124799,  0.2035808 , -1.85618548,\n",
       "         -0.78726893],\n",
       "        [ 0.43302619, -0.33763234, -0.08112218,  0.24454398,\n",
       "          0.27304932],\n",
       "        [-1.07980489, -0.33914025,  0.98907246,  0.11747566,\n",
       "          0.16681027]],\n",
       "\n",
       "       [[-1.54540029,  0.61320418,  2.39470366, -0.2227737 ,\n",
       "          0.29294072],\n",
       "        [ 1.20303737,  1.25647226, -0.52929608, -0.06191203,\n",
       "         -1.61857075],\n",
       "        [-1.97772828,  0.31216994,  0.31475378, -1.90745689,\n",
       "          1.65671662]]])"
      ]
     },
     "execution_count": 18,
     "metadata": {},
     "output_type": "execute_result"
    }
   ],
   "source": [
    "conv_filters[0]"
   ]
  },
  {
   "cell_type": "code",
   "execution_count": 19,
   "metadata": {},
   "outputs": [],
   "source": [
    "conv_filters_transposed = conv_filters.transpose([3, 2, 0, 1])"
   ]
  },
  {
   "cell_type": "code",
   "execution_count": 20,
   "metadata": {},
   "outputs": [
    {
     "data": {
      "text/plain": [
       "array([[[ 1.39799638, -0.27124799,  0.61320418],\n",
       "        [-0.26731719, -0.54930901,  0.1327083 ],\n",
       "        [-0.47614201,  1.30847308,  0.19501328]],\n",
       "\n",
       "       [[ 0.40020999, -0.33763234,  1.25647226],\n",
       "        [-0.7319695 ,  0.66023155, -0.35087189],\n",
       "        [-0.93943336, -0.48933722, -0.80459114]],\n",
       "\n",
       "       [[-0.21269764, -0.33914025,  0.31216994],\n",
       "        [ 0.56515267, -0.14742026, -0.02590534],\n",
       "        [ 0.2890942 , -0.53987907,  0.70816002]]])"
      ]
     },
     "execution_count": 20,
     "metadata": {},
     "output_type": "execute_result"
    }
   ],
   "source": [
    "conv_filters_transposed[1]"
   ]
  },
  {
   "cell_type": "code",
   "execution_count": null,
   "metadata": {},
   "outputs": [],
   "source": [
    "array([[[ 1.39799638, -0.27124799,  0.61320418],\n",
    "        [-0.26731719, -0.54930901,  0.1327083 ],\n",
    "        [-0.47614201,  1.30847308,  0.19501328]],\n",
    "\n",
    "       [[ 0.40020999, -0.33763234,  1.25647226],\n",
    "        [-0.7319695 ,  0.66023155, -0.35087189],\n",
    "        [-0.93943336, -0.48933722, -0.80459114]],\n",
    "\n",
    "       [[-0.21269764, -0.33914025,  0.31216994],\n",
    "        [ 0.56515267, -0.14742026, -0.02590534],\n",
    "        [ 0.2890942 , -0.53987907,  0.70816002]]])"
   ]
  },
  {
   "cell_type": "code",
   "execution_count": 26,
   "metadata": {},
   "outputs": [
    {
     "name": "stdout",
     "output_type": "stream",
     "text": [
      "0.00.00.00.00.00.00.00.00.00.00.00.00.00.00.00.00.00.00.00.00.00.00.00.00.00.00.00.0\n",
      "\n",
      "0.00.00.00.00.00.00.00.00.00.00.00.00.00.00.00.00.00.00.00.00.00.00.00.00.00.00.00.0\n",
      "\n",
      "0.00.00.00.00.00.00.00.00.00.00.00.00.00.00.00.00.00.00.00.00.00.00.00.00.00.00.00.0\n",
      "\n",
      "0.00.00.00.00.00.00.00.00.00.00.00.00.00.00.00.00.00.00.00.00.00.00.00.00.00.00.00.0\n",
      "\n",
      "0.00.00.00.00.00.00.00.00.00.00.00.00.00.00.00.00.00.00.00.00.00.00.00.00.00.00.00.0\n",
      "\n",
      "0.00.00.00.00.00.00.00.00.00.00.00.00.00.00.00.00.00.00.00.00.00.00.00.00.00.00.00.0\n",
      "\n",
      "0.00.00.00.00.08.28090341.695286-27.28735-149.11127-131.02779-149.79428-57.53563-40.553320.00.00.00.00.00.00.00.00.00.00.00.00.00.00.0\n",
      "\n",
      "0.00.00.00.00.01.383465538.81633-236.13397-313.1274-279.33768-267.96725-226.66801-212.29866-148.23119-148.23119-148.23119-148.23119-148.23119-148.23119-150.99149-170.44336-176.98045-58.577020.00.00.00.00.0\n",
      "\n",
      "0.00.00.00.00.0135.6968283.86044100.529755193.4347225.11913522.194178-201.5751-265.69916-339.76425-298.99786-331.6658-332.06012-335.2474-334.14133-296.66986-306.24823-322.73093-180.282320.00.00.00.00.0\n",
      "\n",
      "0.00.00.00.00.0468.01727313.45917614.5541636.168640.90936578.57886476.4632464.33176313.9196398.8287326.5353326.72287326.01416342.01065393.7444-71.95545-151.66528-97.7392960.00.00.00.00.0\n",
      "\n",
      "0.00.00.00.00.0146.1837185.2131155.2477361.221361.72324517.3506580.69714596.8226698.0871645.25543668.2261661.45123637.17346697.60846594.5072104.92261-74.5504155.676360.00.00.00.00.0\n",
      "\n",
      "0.00.00.00.00.00.00.00.00.00.037.09139127.88551-5.069859237.555104.86345188.89542173.60947104.97023589.196384.39709-21.272951117.340164160.249530.00.00.00.00.0\n",
      "\n",
      "0.00.00.00.00.00.00.00.00.00.00.00.00.00.00.00.07.347587184.48627342.106631.7105994-127.27802228.7086528.539160.00.00.00.00.0\n",
      "\n",
      "0.00.00.00.00.00.00.00.00.00.00.00.00.00.00.05.81635157.538853448.9244443.55062-89.736275150.84741112.495330.00.00.00.00.00.0\n",
      "\n",
      "0.00.00.00.00.00.00.00.00.00.00.00.00.00.00.0-1.2886294280.71274274.74307117.098495-48.697006303.0894269.762380.00.00.00.00.00.0\n",
      "\n",
      "0.00.00.00.00.00.00.00.00.00.00.00.00.00.00.88724005118.99043492.05646143.07059-92.21693197.2404896.130870.00.00.00.00.00.00.0\n",
      "\n",
      "0.00.00.00.00.00.00.00.00.00.00.00.00.00.010.22474300.0492303.1204830.574373-78.45302266.570257.92754360.00.00.00.00.00.00.0\n",
      "\n",
      "0.00.00.00.00.00.00.00.00.00.00.00.00.07.393665334.572327381.4212342.525517-154.88316194.9991691.959510.00.00.00.00.00.00.00.0\n",
      "\n",
      "0.00.00.00.00.00.00.00.00.00.00.00.01.8730628.787381276.26648172.78444-15.3356495-63.088913263.816960.00.00.00.00.00.00.00.00.0\n",
      "\n",
      "0.00.00.00.00.00.00.00.00.00.00.00.2957466816.21265187.35536262.0789237.355057-58.45103214.9918290.3740.00.00.00.00.00.00.00.00.0\n",
      "\n",
      "0.00.00.00.00.00.00.00.00.00.00.03.013917727.451233446.635616.34624980.3578862.256023247.999790.00.00.00.00.00.00.00.00.00.0\n",
      "\n",
      "0.00.00.00.00.00.00.00.00.00.03.05604828.010296429.36282108.67269166.6386129.120903279.490955.492810.00.00.00.00.00.00.00.00.00.0\n",
      "\n",
      "0.00.00.00.00.00.00.00.00.00.05.54529489.28833380.6861628.987984-56.392006221.18268121.650030.00.00.00.00.00.00.00.00.00.00.0\n",
      "\n",
      "0.00.00.00.00.00.00.00.00.06.013512676.06762416.4019285.3421122.96833-87.894066100.23351.58550880.00.00.00.00.00.00.00.00.00.00.0\n",
      "\n",
      "0.00.00.00.00.00.00.00.00.0-2.9597602287.7245290.461154.33458-77.879665.72517814.8122440.00.00.00.00.00.00.00.00.00.00.00.0\n",
      "\n",
      "0.00.00.00.00.00.00.00.00.0115.488754462.59778252.72346297.5477-80.80273236.6102365.08110.00.00.00.00.00.00.00.00.00.00.00.0\n",
      "\n",
      "0.00.00.00.00.00.00.00.00.0234.47107373.06873392.91547517.5281191.8539301.4912463.420350.00.00.00.00.00.00.00.00.00.00.00.0\n",
      "\n",
      "0.00.00.00.00.00.00.00.00.0264.00342439.4785402.69153245.75221311.1359328.539160.00.00.00.00.00.00.00.00.00.00.00.00.0\n",
      "\n"
     ]
    }
   ],
   "source": [
    "viz_utils.vis_2darray(conv_out[1])"
   ]
  },
  {
   "cell_type": "code",
   "execution_count": 41,
   "metadata": {},
   "outputs": [
    {
     "data": {
      "text/plain": [
       "array([   0.      ,    0.      ,    0.      ,    0.      ,    0.      ,\n",
       "        212.0192  ,  714.9097  , 1058.799   ,  778.143   ,  661.1453  ,\n",
       "        460.00723 ,  574.45703 ,  519.13336 ,  538.0623  ,  538.0623  ,\n",
       "        538.0623  ,  538.0623  ,  538.0623  ,  538.0623  ,  531.38214 ,\n",
       "        485.1821  ,  345.35544 ,   95.385704,    0.      ,    0.      ,\n",
       "          0.      ,    0.      ,    0.      ], dtype=float32)"
      ]
     },
     "execution_count": 41,
     "metadata": {},
     "output_type": "execute_result"
    }
   ],
   "source": [
    "conv_out[0][7]"
   ]
  },
  {
   "cell_type": "code",
   "execution_count": 44,
   "metadata": {},
   "outputs": [
    {
     "data": {
      "text/plain": [
       "134.25172"
      ]
     },
     "execution_count": 44,
     "metadata": {},
     "output_type": "execute_result"
    }
   ],
   "source": [
    "conv_out[2].mean()"
   ]
  },
  {
   "cell_type": "code",
   "execution_count": 36,
   "metadata": {},
   "outputs": [
    {
     "data": {
      "text/plain": [
       "(5, 28, 28)"
      ]
     },
     "execution_count": 36,
     "metadata": {},
     "output_type": "execute_result"
    }
   ],
   "source": [
    "conv_out.shape"
   ]
  },
  {
   "cell_type": "code",
   "execution_count": 18,
   "metadata": {},
   "outputs": [
    {
     "data": {
      "text/plain": [
       "True"
      ]
     },
     "execution_count": 18,
     "metadata": {},
     "output_type": "execute_result"
    }
   ],
   "source": [
    "cv2.imwrite(\"conv_out_tf.png\", conv_out)"
   ]
  },
  {
   "cell_type": "code",
   "execution_count": 21,
   "metadata": {},
   "outputs": [
    {
     "data": {
      "image/png": "[encoded data removed]",
      "text/plain": [
       "<IPython.core.display.Image object>"
      ]
     },
     "execution_count": 21,
     "metadata": {
      "image/png": {
       "height": 250,
       "width": 250
      }
     },
     "output_type": "execute_result"
    }
   ],
   "source": [
    "Image(\"conv_out_tf.png\", height=250, width = 250)"
   ]
  },
  {
   "cell_type": "code",
   "execution_count": 23,
   "metadata": {},
   "outputs": [
    {
     "name": "stdout",
     "output_type": "stream",
     "text": [
      "   0   0   0   0   0   0   0   0   0   0   0   0   0   0   0   0   0   0   0   0   0   0   0   0   0   0   0   0\n",
      "\n",
      "   0   0   0   0   0   0   0   0   0   0   0   0   0   0   0   0   0   0   0   0   0   0   0   0   0   0   0   0\n",
      "\n",
      "   0   0   0   0   0   0   0   0   0   0   0   0   0   0   0   0   0   0   0   0   0   0   0   0   0   0   0   0\n",
      "\n",
      "   0   0   0   0   0   0   0   0   0   0   0   0   0   0   0   0   0   0   0   0   0   0   0   0   0   0   0   0\n",
      "\n",
      "   0   0   0   0   0   0   0   0   0   0   0   0   0   0   0   0   0   0   0   0   0   0   0   0   0   0   0   0\n",
      "\n",
      "   0   0   0   0   0   0   0   0   0   0   0   0   0   0   0   0   0   0   0   0   0   0   0   0   0   0   0   0\n",
      "\n",
      "   0   0   0   0   0 164 241 216 103 230  43 112 148   0   0   0   0   0   0   0   0   0   0   0   0   0   0   0\n",
      "\n",
      "   0   0   0   0   0 170  53 107 207 100  85  29 209  82  82  82  82  82  82 198  92  54 100   0   0   0   0   0\n",
      "\n",
      "   0   0   0   0   0 129 240 254 118 158 100 212  48  47 163  76  56 203  63 123  72 250  92   0   0   0   0   0\n",
      "\n",
      "   0   0   0   0   0  33 246   8 254 131 109 227 233 227 238  79  35  64  84  13 206  50 246   0   0   0   0   0\n",
      "\n",
      "   0   0   0   0   0  67 114 139 228 235 102   5  86  91 168 197 185  13  82 210  36 113  86   0   0   0   0   0\n",
      "\n",
      "   0   0   0   0   0   0   0   0   0   0  17  66  31 133  81 134 236  78 108 193  96  41 106   0   0   0   0   0\n",
      "\n",
      "   0   0   0   0   0   0   0   0   0   0   0   0   0   0   0   0 155 223 239  69  23  77  18   0   0   0   0   0\n",
      "\n",
      "   0   0   0   0   0   0   0   0   0   0   0   0   0   0   0  39 175  39  72 136 157  83   0   0   0   0   0   0\n",
      "\n",
      "   0   0   0   0   0   0   0   0   0   0   0   0   0   0   0 212 107   4 131 122 223  44   0   0   0   0   0   0\n",
      "\n",
      "   0   0   0   0   0   0   0   0   0   0   0   0   0   0  45 202 139 163   4  90  62   0   0   0   0   0   0   0\n",
      "\n",
      "   0   0   0   0   0   0   0   0   0   0   0   0   0   0 127 216 162  38  85 187   5   0   0   0   0   0   0   0\n",
      "\n",
      "   0   0   0   0   0   0   0   0   0   0   0   0   0 119 185 145 207 220  77  58   0   0   0   0   0   0   0   0\n",
      "\n",
      "   0   0   0   0   0   0   0   0   0   0   0   0  95 175 169 137 249 126 182   0   0   0   0   0   0   0   0   0\n",
      "\n",
      "   0   0   0   0   0   0   0   0   0   0   0  15  13   6 151 109  18 135  57   0   0   0   0   0   0   0   0   0\n",
      "\n",
      "   0   0   0   0   0   0   0   0   0   0   0 193   0 243 109 175  93 166   0   0   0   0   0   0   0   0   0   0\n",
      "\n",
      "   0   0   0   0   0   0   0   0   0   0 155 168 142 152 109  99 216  35   0   0   0   0   0   0   0   0   0   0\n",
      "\n",
      "   0   0   0   0   0   0   0   0   0   0 184 191  33 155 108 100  77   0   0   0   0   0   0   0   0   0   0   0\n",
      "\n",
      "   0   0   0   0   0   0   0   0   0  49 155  25  53 139 161 215   1   0   0   0   0   0   0   0   0   0   0   0\n",
      "\n",
      "   0   0   0   0   0   0   0   0   0 154  96 105 200  11 253 188   0   0   0   0   0   0   0   0   0   0   0   0\n",
      "\n",
      "   0   0   0   0   0   0   0   0   0  19  81 211 246 181  24  52   0   0   0   0   0   0   0   0   0   0   0   0\n",
      "\n",
      "   0   0   0   0   0   0   0   0   0 242 238  66 137  74 219  40   0   0   0   0   0   0   0   0   0   0   0   0\n",
      "\n",
      "   0   0   0   0   0   0   0   0   0 121 254  72  16 207  18   0   0   0   0   0   0   0   0   0   0   0   0   0\n",
      "\n"
     ]
    }
   ],
   "source": [
    "viz_utils.vis_2darray(conv_out)"
   ]
  },
  {
   "cell_type": "code",
   "execution_count": 1,
   "metadata": {},
   "outputs": [],
   "source": []
  },
  {
   "cell_type": "code",
   "execution_count": null,
   "metadata": {},
   "outputs": [],
   "source": []
  }
 ],
 "metadata": {
  "kernelspec": {
   "display_name": "Python 3",
   "language": "python",
   "name": "python3"
  },
  "language_info": {
   "codemirror_mode": {
    "name": "ipython",
    "version": 3
   },
   "file_extension": ".py",
   "mimetype": "text/x-python",
   "name": "python",
   "nbconvert_exporter": "python",
   "pygments_lexer": "ipython3",
   "version": "3.7.5"
  }
 },
 "nbformat": 4,
 "nbformat_minor": 2
}
