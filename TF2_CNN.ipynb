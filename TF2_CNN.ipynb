{
 "cells": [
  {
   "cell_type": "code",
   "execution_count": 6,
   "metadata": {},
   "outputs": [],
   "source": [
    "import tensorflow as tf\n",
    "import cv2\n",
    "import numpy as np\n",
    "\n",
    "from IPython.display import Image\n",
    "\n",
    "import viz_utils"
   ]
  },
  {
   "cell_type": "code",
   "execution_count": 7,
   "metadata": {},
   "outputs": [],
   "source": [
    "img = cv2.imread(\"test_img.png\", 0)"
   ]
  },
  {
   "cell_type": "code",
   "execution_count": 8,
   "metadata": {},
   "outputs": [],
   "source": [
    "img = img.astype(np.float32)"
   ]
  },
  {
   "cell_type": "code",
   "execution_count": 9,
   "metadata": {},
   "outputs": [],
   "source": [
    "img = np.expand_dims(img, axis=0)\n",
    "img = np.expand_dims(img, axis=-1)"
   ]
  },
  {
   "cell_type": "code",
   "execution_count": 10,
   "metadata": {},
   "outputs": [
    {
     "data": {
      "text/plain": [
       "(1, 28, 28, 1)"
      ]
     },
     "execution_count": 10,
     "metadata": {},
     "output_type": "execute_result"
    }
   ],
   "source": [
    "img.shape"
   ]
  },
  {
   "cell_type": "code",
   "execution_count": 11,
   "metadata": {},
   "outputs": [],
   "source": [
    "conv_filter = np.array([[1,0,1],\n",
    "                     [0,2,1],\n",
    "                     [-3,1,5]], dtype=np.float32)"
   ]
  },
  {
   "cell_type": "code",
   "execution_count": 12,
   "metadata": {},
   "outputs": [],
   "source": [
    "conv_filter = np.expand_dims(conv_filter, axis=-1)\n",
    "conv_filter = np.expand_dims(conv_filter, axis=-1)"
   ]
  },
  {
   "cell_type": "code",
   "execution_count": 13,
   "metadata": {},
   "outputs": [
    {
     "data": {
      "text/plain": [
       "(3, 3, 1, 1)"
      ]
     },
     "execution_count": 13,
     "metadata": {},
     "output_type": "execute_result"
    }
   ],
   "source": [
    "conv_filter.shape"
   ]
  },
  {
   "cell_type": "code",
   "execution_count": 15,
   "metadata": {},
   "outputs": [],
   "source": [
    "conv_out = tf.nn.conv2d(img, conv_filter, strides = 1, padding = 'SAME').numpy()"
   ]
  },
  {
   "cell_type": "code",
   "execution_count": 16,
   "metadata": {},
   "outputs": [],
   "source": [
    "conv_out = conv_out.squeeze()"
   ]
  },
  {
   "cell_type": "code",
   "execution_count": 17,
   "metadata": {},
   "outputs": [],
   "source": [
    "conv_out = conv_out.astype(np.uint8)"
   ]
  },
  {
   "cell_type": "code",
   "execution_count": 18,
   "metadata": {},
   "outputs": [
    {
     "data": {
      "text/plain": [
       "True"
      ]
     },
     "execution_count": 18,
     "metadata": {},
     "output_type": "execute_result"
    }
   ],
   "source": [
    "cv2.imwrite(\"conv_out_tf.png\", conv_out)"
   ]
  },
  {
   "cell_type": "code",
   "execution_count": 21,
   "metadata": {},
   "outputs": [
    {
     "data": {
      "image/png": "[encoded data removed]",
      "text/plain": [
       "<IPython.core.display.Image object>"
      ]
     },
     "execution_count": 21,
     "metadata": {
      "image/png": {
       "height": 250,
       "width": 250
      }
     },
     "output_type": "execute_result"
    }
   ],
   "source": [
    "Image(\"conv_out_tf.png\", height=250, width = 250)"
   ]
  },
  {
   "cell_type": "code",
   "execution_count": 23,
   "metadata": {},
   "outputs": [
    {
     "name": "stdout",
     "output_type": "stream",
     "text": [
      "   0   0   0   0   0   0   0   0   0   0   0   0   0   0   0   0   0   0   0   0   0   0   0   0   0   0   0   0\n",
      "\n",
      "   0   0   0   0   0   0   0   0   0   0   0   0   0   0   0   0   0   0   0   0   0   0   0   0   0   0   0   0\n",
      "\n",
      "   0   0   0   0   0   0   0   0   0   0   0   0   0   0   0   0   0   0   0   0   0   0   0   0   0   0   0   0\n",
      "\n",
      "   0   0   0   0   0   0   0   0   0   0   0   0   0   0   0   0   0   0   0   0   0   0   0   0   0   0   0   0\n",
      "\n",
      "   0   0   0   0   0   0   0   0   0   0   0   0   0   0   0   0   0   0   0   0   0   0   0   0   0   0   0   0\n",
      "\n",
      "   0   0   0   0   0   0   0   0   0   0   0   0   0   0   0   0   0   0   0   0   0   0   0   0   0   0   0   0\n",
      "\n",
      "   0   0   0   0   0 164 241 216 103 230  43 112 148   0   0   0   0   0   0   0   0   0   0   0   0   0   0   0\n",
      "\n",
      "   0   0   0   0   0 170  53 107 207 100  85  29 209  82  82  82  82  82  82 198  92  54 100   0   0   0   0   0\n",
      "\n",
      "   0   0   0   0   0 129 240 254 118 158 100 212  48  47 163  76  56 203  63 123  72 250  92   0   0   0   0   0\n",
      "\n",
      "   0   0   0   0   0  33 246   8 254 131 109 227 233 227 238  79  35  64  84  13 206  50 246   0   0   0   0   0\n",
      "\n",
      "   0   0   0   0   0  67 114 139 228 235 102   5  86  91 168 197 185  13  82 210  36 113  86   0   0   0   0   0\n",
      "\n",
      "   0   0   0   0   0   0   0   0   0   0  17  66  31 133  81 134 236  78 108 193  96  41 106   0   0   0   0   0\n",
      "\n",
      "   0   0   0   0   0   0   0   0   0   0   0   0   0   0   0   0 155 223 239  69  23  77  18   0   0   0   0   0\n",
      "\n",
      "   0   0   0   0   0   0   0   0   0   0   0   0   0   0   0  39 175  39  72 136 157  83   0   0   0   0   0   0\n",
      "\n",
      "   0   0   0   0   0   0   0   0   0   0   0   0   0   0   0 212 107   4 131 122 223  44   0   0   0   0   0   0\n",
      "\n",
      "   0   0   0   0   0   0   0   0   0   0   0   0   0   0  45 202 139 163   4  90  62   0   0   0   0   0   0   0\n",
      "\n",
      "   0   0   0   0   0   0   0   0   0   0   0   0   0   0 127 216 162  38  85 187   5   0   0   0   0   0   0   0\n",
      "\n",
      "   0   0   0   0   0   0   0   0   0   0   0   0   0 119 185 145 207 220  77  58   0   0   0   0   0   0   0   0\n",
      "\n",
      "   0   0   0   0   0   0   0   0   0   0   0   0  95 175 169 137 249 126 182   0   0   0   0   0   0   0   0   0\n",
      "\n",
      "   0   0   0   0   0   0   0   0   0   0   0  15  13   6 151 109  18 135  57   0   0   0   0   0   0   0   0   0\n",
      "\n",
      "   0   0   0   0   0   0   0   0   0   0   0 193   0 243 109 175  93 166   0   0   0   0   0   0   0   0   0   0\n",
      "\n",
      "   0   0   0   0   0   0   0   0   0   0 155 168 142 152 109  99 216  35   0   0   0   0   0   0   0   0   0   0\n",
      "\n",
      "   0   0   0   0   0   0   0   0   0   0 184 191  33 155 108 100  77   0   0   0   0   0   0   0   0   0   0   0\n",
      "\n",
      "   0   0   0   0   0   0   0   0   0  49 155  25  53 139 161 215   1   0   0   0   0   0   0   0   0   0   0   0\n",
      "\n",
      "   0   0   0   0   0   0   0   0   0 154  96 105 200  11 253 188   0   0   0   0   0   0   0   0   0   0   0   0\n",
      "\n",
      "   0   0   0   0   0   0   0   0   0  19  81 211 246 181  24  52   0   0   0   0   0   0   0   0   0   0   0   0\n",
      "\n",
      "   0   0   0   0   0   0   0   0   0 242 238  66 137  74 219  40   0   0   0   0   0   0   0   0   0   0   0   0\n",
      "\n",
      "   0   0   0   0   0   0   0   0   0 121 254  72  16 207  18   0   0   0   0   0   0   0   0   0   0   0   0   0\n",
      "\n"
     ]
    }
   ],
   "source": [
    "viz_utils.vis_2darray(conv_out)"
   ]
  },
  {
   "cell_type": "code",
   "execution_count": null,
   "metadata": {},
   "outputs": [],
   "source": []
  }
 ],
 "metadata": {
  "kernelspec": {
   "display_name": "Python 3",
   "language": "python",
   "name": "python3"
  },
  "language_info": {
   "codemirror_mode": {
    "name": "ipython",
    "version": 3
   },
   "file_extension": ".py",
   "mimetype": "text/x-python",
   "name": "python",
   "nbconvert_exporter": "python",
   "pygments_lexer": "ipython3",
   "version": "3.7.5"
  }
 },
 "nbformat": 4,
 "nbformat_minor": 2
}
